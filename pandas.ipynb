{
 "cells": [
  {
   "cell_type": "code",
   "execution_count": 2,
   "metadata": {},
   "outputs": [],
   "source": [
    "import pandas as pd\n",
    "import numpy as np"
   ]
  },
  {
   "cell_type": "code",
   "execution_count": 46,
   "metadata": {},
   "outputs": [
    {
     "name": "stdout",
     "output_type": "stream",
     "text": [
      "a    1\n",
      "b    2\n",
      "c    3\n",
      "dtype: int64\n",
      "\n",
      "   a\n",
      "a  1\n",
      "b  2\n",
      "c  3\n",
      "\n",
      "   a  b  c\n",
      "0  1  2  3\n",
      "1  2  3  4\n",
      "2  3  4  5\n",
      "\n",
      "        a  b  c\n",
      "first   1  2  3\n",
      "second  1  2  3\n",
      "\n"
     ]
    }
   ],
   "source": [
    "# Series: 1D labeled array\n",
    "s = pd.Series([1,2,3] , index=['a','b','c'])\n",
    "print(s)\n",
    "print()\n",
    "\n",
    "# DataFrame: 2D labeled array\n",
    "df = pd.DataFrame(s , columns=['a'])\n",
    "print(df)\n",
    "print()\n",
    "df2 = pd.DataFrame({'a':[1,2,3],'b':[2,3,4],'c':[3,4,5]})\n",
    "print(df2)\n",
    "print()\n",
    "df3 = pd.DataFrame([[1,2,3] , [1,2,3]], columns=['a','b','c'] , index=['first' , 'second'])\n",
    "print(df3)\n",
    "print()"
   ]
  },
  {
   "cell_type": "code",
   "execution_count": 47,
   "metadata": {},
   "outputs": [
    {
     "data": {
      "text/plain": [
       "RangeIndex(start=0, stop=5, step=1)"
      ]
     },
     "execution_count": 47,
     "metadata": {},
     "output_type": "execute_result"
    }
   ],
   "source": [
    "df = pd.DataFrame(np.random.randn(5, 5), columns=list('ABCDE'))\n",
    "df.head()        # First 5 rows\n",
    "df.tail(3)       # Last 3 rows\n",
    "df.shape         # Rows and columns\n",
    "# df.info()        # Summary of data\n",
    "df.describe()    # Statistical summary\n",
    "df.dtypes        # Data types of columns\n",
    "df.columns       # Column names\n",
    "df.index         # Row index\n"
   ]
  },
  {
   "cell_type": "code",
   "execution_count": 57,
   "metadata": {},
   "outputs": [
    {
     "name": "stdout",
     "output_type": "stream",
     "text": [
      "          A         B         C         D         E\n",
      "0 -0.461977 -0.414969  1.930163  0.039470 -0.043950\n",
      "1 -0.454540  0.014378 -1.714779 -0.096908  0.884550\n",
      "2  0.532898 -0.416795 -0.973259  1.350221 -0.631100\n",
      "3  0.129646 -0.055805  1.401889  0.997559 -0.025303\n",
      "4  0.134834 -0.597136 -0.770856 -0.533751  1.794619\n"
     ]
    },
    {
     "data": {
      "text/html": [
       "<div>\n",
       "<style scoped>\n",
       "    .dataframe tbody tr th:only-of-type {\n",
       "        vertical-align: middle;\n",
       "    }\n",
       "\n",
       "    .dataframe tbody tr th {\n",
       "        vertical-align: top;\n",
       "    }\n",
       "\n",
       "    .dataframe thead th {\n",
       "        text-align: right;\n",
       "    }\n",
       "</style>\n",
       "<table border=\"1\" class=\"dataframe\">\n",
       "  <thead>\n",
       "    <tr style=\"text-align: right;\">\n",
       "      <th></th>\n",
       "      <th>A</th>\n",
       "      <th>B</th>\n",
       "    </tr>\n",
       "  </thead>\n",
       "  <tbody>\n",
       "    <tr>\n",
       "      <th>0</th>\n",
       "      <td>-0.461977</td>\n",
       "      <td>-0.414969</td>\n",
       "    </tr>\n",
       "    <tr>\n",
       "      <th>1</th>\n",
       "      <td>-0.454540</td>\n",
       "      <td>0.014378</td>\n",
       "    </tr>\n",
       "    <tr>\n",
       "      <th>2</th>\n",
       "      <td>0.532898</td>\n",
       "      <td>-0.416795</td>\n",
       "    </tr>\n",
       "    <tr>\n",
       "      <th>3</th>\n",
       "      <td>0.129646</td>\n",
       "      <td>-0.055805</td>\n",
       "    </tr>\n",
       "    <tr>\n",
       "      <th>4</th>\n",
       "      <td>0.134834</td>\n",
       "      <td>-0.597136</td>\n",
       "    </tr>\n",
       "  </tbody>\n",
       "</table>\n",
       "</div>"
      ],
      "text/plain": [
       "          A         B\n",
       "0 -0.461977 -0.414969\n",
       "1 -0.454540  0.014378\n",
       "2  0.532898 -0.416795\n",
       "3  0.129646 -0.055805\n",
       "4  0.134834 -0.597136"
      ]
     },
     "execution_count": 57,
     "metadata": {},
     "output_type": "execute_result"
    }
   ],
   "source": [
    "df = pd.DataFrame(np.random.randn(5, 5), columns=list('ABCDE') )\n",
    "print(df)\n",
    "df['A']         # Column A\n",
    "df.loc[0, 'A']  # Specific value\n",
    "df.loc[:, ['A', 'B']]  # Specific columns\n"
   ]
  },
  {
   "cell_type": "code",
   "execution_count": 61,
   "metadata": {},
   "outputs": [
    {
     "data": {
      "text/html": [
       "<div>\n",
       "<style scoped>\n",
       "    .dataframe tbody tr th:only-of-type {\n",
       "        vertical-align: middle;\n",
       "    }\n",
       "\n",
       "    .dataframe tbody tr th {\n",
       "        vertical-align: top;\n",
       "    }\n",
       "\n",
       "    .dataframe thead th {\n",
       "        text-align: right;\n",
       "    }\n",
       "</style>\n",
       "<table border=\"1\" class=\"dataframe\">\n",
       "  <thead>\n",
       "    <tr style=\"text-align: right;\">\n",
       "      <th></th>\n",
       "      <th>A</th>\n",
       "      <th>B</th>\n",
       "    </tr>\n",
       "  </thead>\n",
       "  <tbody>\n",
       "    <tr>\n",
       "      <th>1</th>\n",
       "      <td>-0.454540</td>\n",
       "      <td>0.014378</td>\n",
       "    </tr>\n",
       "    <tr>\n",
       "      <th>2</th>\n",
       "      <td>0.532898</td>\n",
       "      <td>-0.416795</td>\n",
       "    </tr>\n",
       "  </tbody>\n",
       "</table>\n",
       "</div>"
      ],
      "text/plain": [
       "          A         B\n",
       "1 -0.454540  0.014378\n",
       "2  0.532898 -0.416795"
      ]
     },
     "execution_count": 61,
     "metadata": {},
     "output_type": "execute_result"
    }
   ],
   "source": [
    "df.iloc[0]      # First row\n",
    "df.iloc[:, 1]   # Second column\n",
    "df.iloc[1:3, 0:2]  # Subset\n"
   ]
  },
  {
   "cell_type": "code",
   "execution_count": 70,
   "metadata": {},
   "outputs": [
    {
     "name": "stdout",
     "output_type": "stream",
     "text": [
      "          A         B         C         D         E\n",
      "0 -0.461977 -0.414969  1.930163  0.039470 -0.043950\n",
      "1 -0.454540  0.014378 -1.714779 -0.096908  0.884550\n",
      "2  0.532898 -0.416795 -0.973259  1.350221 -0.631100\n",
      "3  0.129646 -0.055805  1.401889  0.997559 -0.025303\n",
      "4  0.134834 -0.597136 -0.770856 -0.533751  1.794619\n"
     ]
    },
    {
     "data": {
      "text/html": [
       "<div>\n",
       "<style scoped>\n",
       "    .dataframe tbody tr th:only-of-type {\n",
       "        vertical-align: middle;\n",
       "    }\n",
       "\n",
       "    .dataframe tbody tr th {\n",
       "        vertical-align: top;\n",
       "    }\n",
       "\n",
       "    .dataframe thead th {\n",
       "        text-align: right;\n",
       "    }\n",
       "</style>\n",
       "<table border=\"1\" class=\"dataframe\">\n",
       "  <thead>\n",
       "    <tr style=\"text-align: right;\">\n",
       "      <th></th>\n",
       "      <th>A</th>\n",
       "      <th>B</th>\n",
       "      <th>C</th>\n",
       "      <th>D</th>\n",
       "      <th>E</th>\n",
       "    </tr>\n",
       "  </thead>\n",
       "  <tbody>\n",
       "    <tr>\n",
       "      <th>2</th>\n",
       "      <td>0.532898</td>\n",
       "      <td>-0.416795</td>\n",
       "      <td>-0.973259</td>\n",
       "      <td>1.350221</td>\n",
       "      <td>-0.631100</td>\n",
       "    </tr>\n",
       "    <tr>\n",
       "      <th>3</th>\n",
       "      <td>0.129646</td>\n",
       "      <td>-0.055805</td>\n",
       "      <td>1.401889</td>\n",
       "      <td>0.997559</td>\n",
       "      <td>-0.025303</td>\n",
       "    </tr>\n",
       "    <tr>\n",
       "      <th>4</th>\n",
       "      <td>0.134834</td>\n",
       "      <td>-0.597136</td>\n",
       "      <td>-0.770856</td>\n",
       "      <td>-0.533751</td>\n",
       "      <td>1.794619</td>\n",
       "    </tr>\n",
       "  </tbody>\n",
       "</table>\n",
       "</div>"
      ],
      "text/plain": [
       "          A         B         C         D         E\n",
       "2  0.532898 -0.416795 -0.973259  1.350221 -0.631100\n",
       "3  0.129646 -0.055805  1.401889  0.997559 -0.025303\n",
       "4  0.134834 -0.597136 -0.770856 -0.533751  1.794619"
      ]
     },
     "execution_count": 70,
     "metadata": {},
     "output_type": "execute_result"
    }
   ],
   "source": [
    "print(df)\n",
    "df[df['A'] > 0]            # Rows where column A > 0\n",
    "df[(df['A'] > 0) & (df['B'] < 5)]  # Multiple conditions\n",
    "df.query('A > 0 and B < 5')        # Using query\n"
   ]
  },
  {
   "cell_type": "code",
   "execution_count": null,
   "metadata": {},
   "outputs": [
    {
     "name": "stdout",
     "output_type": "stream",
     "text": [
      "          A         B         D         E\n",
      "2  0.532898 -0.416795 -0.629425  0.283980\n",
      "3  0.129646 -0.055805 -2.042945  0.016808\n",
      "4  0.134834 -0.597136 -2.003713  0.018180\n"
     ]
    }
   ],
   "source": [
    "df['C'] = df['A'] + df['B']  # Add new column\n",
    "df['D'] = df['A'].apply(np.log)  # Apply function\n",
    "df['E'] = df['A'].map(lambda x: x**2)  # Map function\n",
    "df.drop('C', axis=1, inplace=True)  # Drop column\n",
    "df.drop([0, 1], axis=0)  # Drop rows\n",
    "print(df)\n"
   ]
  },
  {
   "cell_type": "code",
   "execution_count": 34,
   "metadata": {},
   "outputs": [
    {
     "data": {
      "text/html": [
       "<div>\n",
       "<style scoped>\n",
       "    .dataframe tbody tr th:only-of-type {\n",
       "        vertical-align: middle;\n",
       "    }\n",
       "\n",
       "    .dataframe tbody tr th {\n",
       "        vertical-align: top;\n",
       "    }\n",
       "\n",
       "    .dataframe thead th {\n",
       "        text-align: right;\n",
       "    }\n",
       "</style>\n",
       "<table border=\"1\" class=\"dataframe\">\n",
       "  <thead>\n",
       "    <tr style=\"text-align: right;\">\n",
       "      <th></th>\n",
       "      <th>F</th>\n",
       "      <th>A</th>\n",
       "      <th>B</th>\n",
       "      <th>C</th>\n",
       "      <th>D</th>\n",
       "      <th>E</th>\n",
       "    </tr>\n",
       "  </thead>\n",
       "  <tbody>\n",
       "    <tr>\n",
       "      <th>0</th>\n",
       "      <td>1.0</td>\n",
       "      <td>0.540376</td>\n",
       "      <td>-1.280188</td>\n",
       "      <td>1.701983</td>\n",
       "      <td>0.517091</td>\n",
       "      <td>0.330268</td>\n",
       "    </tr>\n",
       "    <tr>\n",
       "      <th>1</th>\n",
       "      <td>2.0</td>\n",
       "      <td>-0.764399</td>\n",
       "      <td>-0.648663</td>\n",
       "      <td>-0.353799</td>\n",
       "      <td>-0.599805</td>\n",
       "      <td>0.384332</td>\n",
       "    </tr>\n",
       "    <tr>\n",
       "      <th>2</th>\n",
       "      <td>3.0</td>\n",
       "      <td>-0.296734</td>\n",
       "      <td>-1.339935</td>\n",
       "      <td>0.026800</td>\n",
       "      <td>0.439227</td>\n",
       "      <td>0.237853</td>\n",
       "    </tr>\n",
       "    <tr>\n",
       "      <th>3</th>\n",
       "      <td>2.0</td>\n",
       "      <td>1.339459</td>\n",
       "      <td>-0.350264</td>\n",
       "      <td>0.320431</td>\n",
       "      <td>-0.156415</td>\n",
       "      <td>-0.228266</td>\n",
       "    </tr>\n",
       "    <tr>\n",
       "      <th>4</th>\n",
       "      <td>2.0</td>\n",
       "      <td>1.674103</td>\n",
       "      <td>-0.721266</td>\n",
       "      <td>0.409319</td>\n",
       "      <td>1.160963</td>\n",
       "      <td>-0.899873</td>\n",
       "    </tr>\n",
       "  </tbody>\n",
       "</table>\n",
       "</div>"
      ],
      "text/plain": [
       "     F         A         B         C         D         E\n",
       "0  1.0  0.540376 -1.280188  1.701983  0.517091  0.330268\n",
       "1  2.0 -0.764399 -0.648663 -0.353799 -0.599805  0.384332\n",
       "2  3.0 -0.296734 -1.339935  0.026800  0.439227  0.237853\n",
       "3  2.0  1.339459 -0.350264  0.320431 -0.156415 -0.228266\n",
       "4  2.0  1.674103 -0.721266  0.409319  1.160963 -0.899873"
      ]
     },
     "execution_count": 34,
     "metadata": {},
     "output_type": "execute_result"
    }
   ],
   "source": [
    "df  = pd.DataFrame(np.random.randn(5, 5), columns=list('ABCDE'))\n",
    "df.insert(0, 'F', [1, 2, 3, np.nan, np.nan])\n",
    "df.isnull()       # Check for missing values\n",
    "df.dropna()       # Drop rows with NaN\n",
    "df.fillna(0)      # Replace NaN with 0\n",
    "df.fillna(df.mean())  # Replace NaN with column mean\n"
   ]
  },
  {
   "cell_type": "markdown",
   "metadata": {},
   "source": [
    "## Sorting"
   ]
  },
  {
   "cell_type": "code",
   "execution_count": 44,
   "metadata": {},
   "outputs": [
    {
     "data": {
      "text/html": [
       "<div>\n",
       "<style scoped>\n",
       "    .dataframe tbody tr th:only-of-type {\n",
       "        vertical-align: middle;\n",
       "    }\n",
       "\n",
       "    .dataframe tbody tr th {\n",
       "        vertical-align: top;\n",
       "    }\n",
       "\n",
       "    .dataframe thead th {\n",
       "        text-align: right;\n",
       "    }\n",
       "</style>\n",
       "<table border=\"1\" class=\"dataframe\">\n",
       "  <thead>\n",
       "    <tr style=\"text-align: right;\">\n",
       "      <th></th>\n",
       "      <th>F</th>\n",
       "      <th>A</th>\n",
       "      <th>B</th>\n",
       "      <th>C</th>\n",
       "      <th>D</th>\n",
       "      <th>E</th>\n",
       "    </tr>\n",
       "  </thead>\n",
       "  <tbody>\n",
       "    <tr>\n",
       "      <th>0</th>\n",
       "      <td>1.0</td>\n",
       "      <td>0.540376</td>\n",
       "      <td>-1.280188</td>\n",
       "      <td>1.701983</td>\n",
       "      <td>0.517091</td>\n",
       "      <td>0.330268</td>\n",
       "    </tr>\n",
       "    <tr>\n",
       "      <th>1</th>\n",
       "      <td>2.0</td>\n",
       "      <td>-0.764399</td>\n",
       "      <td>-0.648663</td>\n",
       "      <td>-0.353799</td>\n",
       "      <td>-0.599805</td>\n",
       "      <td>0.384332</td>\n",
       "    </tr>\n",
       "    <tr>\n",
       "      <th>2</th>\n",
       "      <td>3.0</td>\n",
       "      <td>-0.296734</td>\n",
       "      <td>-1.339935</td>\n",
       "      <td>0.026800</td>\n",
       "      <td>0.439227</td>\n",
       "      <td>0.237853</td>\n",
       "    </tr>\n",
       "    <tr>\n",
       "      <th>3</th>\n",
       "      <td>NaN</td>\n",
       "      <td>1.339459</td>\n",
       "      <td>-0.350264</td>\n",
       "      <td>0.320431</td>\n",
       "      <td>-0.156415</td>\n",
       "      <td>-0.228266</td>\n",
       "    </tr>\n",
       "    <tr>\n",
       "      <th>4</th>\n",
       "      <td>NaN</td>\n",
       "      <td>1.674103</td>\n",
       "      <td>-0.721266</td>\n",
       "      <td>0.409319</td>\n",
       "      <td>1.160963</td>\n",
       "      <td>-0.899873</td>\n",
       "    </tr>\n",
       "  </tbody>\n",
       "</table>\n",
       "</div>"
      ],
      "text/plain": [
       "     F         A         B         C         D         E\n",
       "0  1.0  0.540376 -1.280188  1.701983  0.517091  0.330268\n",
       "1  2.0 -0.764399 -0.648663 -0.353799 -0.599805  0.384332\n",
       "2  3.0 -0.296734 -1.339935  0.026800  0.439227  0.237853\n",
       "3  NaN  1.339459 -0.350264  0.320431 -0.156415 -0.228266\n",
       "4  NaN  1.674103 -0.721266  0.409319  1.160963 -0.899873"
      ]
     },
     "execution_count": 44,
     "metadata": {},
     "output_type": "execute_result"
    }
   ],
   "source": [
    "df.sort_values(by='A', ascending=True)  # Sort by column A\n",
    "df.sort_index()                          # Sort by index\n"
   ]
  },
  {
   "cell_type": "markdown",
   "metadata": {},
   "source": [
    "## Aggregations and Grouping"
   ]
  },
  {
   "cell_type": "code",
   "execution_count": 48,
   "metadata": {},
   "outputs": [
    {
     "data": {
      "text/html": [
       "<div>\n",
       "<style scoped>\n",
       "    .dataframe tbody tr th:only-of-type {\n",
       "        vertical-align: middle;\n",
       "    }\n",
       "\n",
       "    .dataframe tbody tr th {\n",
       "        vertical-align: top;\n",
       "    }\n",
       "\n",
       "    .dataframe thead th {\n",
       "        text-align: right;\n",
       "    }\n",
       "</style>\n",
       "<table border=\"1\" class=\"dataframe\">\n",
       "  <thead>\n",
       "    <tr style=\"text-align: right;\">\n",
       "      <th></th>\n",
       "      <th>F</th>\n",
       "      <th>B</th>\n",
       "      <th>C</th>\n",
       "      <th>D</th>\n",
       "      <th>E</th>\n",
       "    </tr>\n",
       "    <tr>\n",
       "      <th>A</th>\n",
       "      <th></th>\n",
       "      <th></th>\n",
       "      <th></th>\n",
       "      <th></th>\n",
       "      <th></th>\n",
       "    </tr>\n",
       "  </thead>\n",
       "  <tbody>\n",
       "    <tr>\n",
       "      <th>-0.764399</th>\n",
       "      <td>2.0</td>\n",
       "      <td>-0.648663</td>\n",
       "      <td>-0.353799</td>\n",
       "      <td>-0.599805</td>\n",
       "      <td>0.384332</td>\n",
       "    </tr>\n",
       "    <tr>\n",
       "      <th>-0.296734</th>\n",
       "      <td>3.0</td>\n",
       "      <td>-1.339935</td>\n",
       "      <td>0.026800</td>\n",
       "      <td>0.439227</td>\n",
       "      <td>0.237853</td>\n",
       "    </tr>\n",
       "    <tr>\n",
       "      <th>0.540376</th>\n",
       "      <td>1.0</td>\n",
       "      <td>-1.280188</td>\n",
       "      <td>1.701983</td>\n",
       "      <td>0.517091</td>\n",
       "      <td>0.330268</td>\n",
       "    </tr>\n",
       "    <tr>\n",
       "      <th>1.339459</th>\n",
       "      <td>0.0</td>\n",
       "      <td>-0.350264</td>\n",
       "      <td>0.320431</td>\n",
       "      <td>-0.156415</td>\n",
       "      <td>-0.228266</td>\n",
       "    </tr>\n",
       "    <tr>\n",
       "      <th>1.674103</th>\n",
       "      <td>0.0</td>\n",
       "      <td>-0.721266</td>\n",
       "      <td>0.409319</td>\n",
       "      <td>1.160963</td>\n",
       "      <td>-0.899873</td>\n",
       "    </tr>\n",
       "  </tbody>\n",
       "</table>\n",
       "</div>"
      ],
      "text/plain": [
       "             F         B         C         D         E\n",
       "A                                                     \n",
       "-0.764399  2.0 -0.648663 -0.353799 -0.599805  0.384332\n",
       "-0.296734  3.0 -1.339935  0.026800  0.439227  0.237853\n",
       " 0.540376  1.0 -1.280188  1.701983  0.517091  0.330268\n",
       " 1.339459  0.0 -0.350264  0.320431 -0.156415 -0.228266\n",
       " 1.674103  0.0 -0.721266  0.409319  1.160963 -0.899873"
      ]
     },
     "execution_count": 48,
     "metadata": {},
     "output_type": "execute_result"
    }
   ],
   "source": [
    "df.sum()           # Sum of each column\n",
    "df.mean()          # Mean of each column\n",
    "df.groupby('A').sum()  # Group by column A and sum\n"
   ]
  },
  {
   "cell_type": "markdown",
   "metadata": {},
   "source": [
    "## Concatenate DataFrames"
   ]
  },
  {
   "cell_type": "code",
   "execution_count": 63,
   "metadata": {},
   "outputs": [
    {
     "data": {
      "text/html": [
       "<div>\n",
       "<style scoped>\n",
       "    .dataframe tbody tr th:only-of-type {\n",
       "        vertical-align: middle;\n",
       "    }\n",
       "\n",
       "    .dataframe tbody tr th {\n",
       "        vertical-align: top;\n",
       "    }\n",
       "\n",
       "    .dataframe thead th {\n",
       "        text-align: right;\n",
       "    }\n",
       "</style>\n",
       "<table border=\"1\" class=\"dataframe\">\n",
       "  <thead>\n",
       "    <tr style=\"text-align: right;\">\n",
       "      <th></th>\n",
       "      <th>A</th>\n",
       "      <th>B</th>\n",
       "      <th>C</th>\n",
       "      <th>A</th>\n",
       "      <th>B</th>\n",
       "      <th>C</th>\n",
       "    </tr>\n",
       "  </thead>\n",
       "  <tbody>\n",
       "    <tr>\n",
       "      <th>0</th>\n",
       "      <td>A0</td>\n",
       "      <td>B0</td>\n",
       "      <td>C0</td>\n",
       "      <td>A4</td>\n",
       "      <td>B4</td>\n",
       "      <td>C4</td>\n",
       "    </tr>\n",
       "    <tr>\n",
       "      <th>1</th>\n",
       "      <td>A1</td>\n",
       "      <td>B1</td>\n",
       "      <td>C1</td>\n",
       "      <td>A5</td>\n",
       "      <td>B5</td>\n",
       "      <td>C5</td>\n",
       "    </tr>\n",
       "    <tr>\n",
       "      <th>2</th>\n",
       "      <td>A2</td>\n",
       "      <td>B2</td>\n",
       "      <td>C2</td>\n",
       "      <td>A6</td>\n",
       "      <td>B6</td>\n",
       "      <td>C6</td>\n",
       "    </tr>\n",
       "    <tr>\n",
       "      <th>3</th>\n",
       "      <td>A3</td>\n",
       "      <td>B3</td>\n",
       "      <td>C3</td>\n",
       "      <td>A7</td>\n",
       "      <td>B7</td>\n",
       "      <td>C7</td>\n",
       "    </tr>\n",
       "  </tbody>\n",
       "</table>\n",
       "</div>"
      ],
      "text/plain": [
       "    A   B   C   A   B   C\n",
       "0  A0  B0  C0  A4  B4  C4\n",
       "1  A1  B1  C1  A5  B5  C5\n",
       "2  A2  B2  C2  A6  B6  C6\n",
       "3  A3  B3  C3  A7  B7  C7"
      ]
     },
     "execution_count": 63,
     "metadata": {},
     "output_type": "execute_result"
    }
   ],
   "source": [
    "df1 = pd.DataFrame({'A': ['A0', 'A1', 'A2', 'A3'],\n",
    "                    'B': ['B0', 'B1', 'B2', 'B3'],\n",
    "                    'C': ['C0', 'C1', 'C2', 'C3'],\n",
    "}, index=[0, 1, 2, 3])\n",
    "\n",
    "df2 = pd.DataFrame({'A': ['A4', 'A5', 'A6', 'A7'],\n",
    "                    'B': ['B4', 'B5', 'B6', 'B7'],\n",
    "                    'C': ['C4', 'C5', 'C6', 'C7'],\n",
    "}, index=[0, 1, 2, 3])\n",
    "pd.concat([df1, df2], axis=0)  # Vertical\n",
    "pd.concat([df1, df2], axis=1)  # Horizontal\n",
    "\n"
   ]
  },
  {
   "cell_type": "markdown",
   "metadata": {},
   "source": [
    "## Merge "
   ]
  },
  {
   "cell_type": "code",
   "execution_count": 79,
   "metadata": {},
   "outputs": [
    {
     "name": "stdout",
     "output_type": "stream",
     "text": [
      "  key  value1\n",
      "0   A       1\n",
      "1   B       2\n",
      "2   C       3\n",
      "  key  value1  value2\n",
      "0   B       2       4\n",
      "1   C       3       5\n"
     ]
    }
   ],
   "source": [
    "df1 = pd.DataFrame({  \n",
    "    'key': ['A', 'B', 'C'],  \n",
    "    'value1': [1, 2, 3]  \n",
    "})  \n",
    "\n",
    "print(df1)\n",
    "\n",
    "df2 = pd.DataFrame({  \n",
    "    'key': ['B', 'C', 'D'],  \n",
    "    'value2': [4, 5, 6]  \n",
    "})  \n",
    "\n",
    "# Merging DataFrames using an inner join  \n",
    "merged_df = pd.merge(df1, df2, on='key')  \n",
    "print(merged_df)\n"
   ]
  },
  {
   "cell_type": "markdown",
   "metadata": {},
   "source": [
    "## Join\n",
    "\n",
    "> You can choose merge() for more complex operations involving column keys and join() for simpler index-based operations. "
   ]
  },
  {
   "cell_type": "code",
   "execution_count": 74,
   "metadata": {},
   "outputs": [
    {
     "name": "stdout",
     "output_type": "stream",
     "text": [
      "   value1\n",
      "A       1\n",
      "B       2\n",
      "C       3\n",
      "   value1  value2\n",
      "B       2       4\n",
      "C       3       5\n"
     ]
    }
   ],
   "source": [
    "# Creating DataFrames with a common index  \n",
    "df1 = pd.DataFrame({  \n",
    "    'value1': [1, 2, 3]  \n",
    "}, index=['A', 'B', 'C'])  \n",
    "print(df1)\n",
    "df2 = pd.DataFrame({  \n",
    "    'value2': [4, 5, 6]  \n",
    "}, index=['B', 'C', 'D'])  \n",
    "\n",
    "# Joining DataFrames  \n",
    "joined_df = df1.join(df2, how='inner')  \n",
    "print(joined_df)"
   ]
  },
  {
   "cell_type": "markdown",
   "metadata": {},
   "source": [
    "## Reading/Writing Files"
   ]
  },
  {
   "cell_type": "code",
   "execution_count": null,
   "metadata": {},
   "outputs": [],
   "source": [
    "pd.read_csv('file.csv')          # Read CSV\n",
    "df.to_csv('file.csv', index=False)  # Write CSV\n",
    "\n",
    "pd.read_excel('file.xlsx')       # Read Excel\n",
    "df.to_excel('file.xlsx', index=False)  # Write Excel\n",
    "\n",
    "pd.read_json('file.json')        # Read JSON\n",
    "df.to_json('file.json')          # Write JSON\n"
   ]
  },
  {
   "cell_type": "code",
   "execution_count": 88,
   "metadata": {},
   "outputs": [
    {
     "name": "stdout",
     "output_type": "stream",
     "text": [
      "Category      A    B\n",
      "Date                \n",
      "2024-01-01  100  200\n",
      "2024-01-02  150  250\n"
     ]
    }
   ],
   "source": [
    "data = {  \n",
    "    'Date': ['2024-01-01', '2024-01-01', '2024-01-02', '2024-01-02'],  \n",
    "    'Category': ['A', 'B', 'A', 'B'],  \n",
    "    'Sales': [100, 200, 150, 250]  \n",
    "}  \n",
    "\n",
    "df = pd.DataFrame(data)  \n",
    "\n",
    "# Creating a pivot table  \n",
    "pivot_table = pd.pivot_table(df, values='Sales', index='Date', columns='Category', aggfunc='sum', fill_value=0)  \n",
    "\n",
    "print(pivot_table)  \n",
    "\n"
   ]
  },
  {
   "cell_type": "code",
   "execution_count": 109,
   "metadata": {},
   "outputs": [
    {
     "name": "stdout",
     "output_type": "stream",
     "text": [
      "Original DataFrame:\n",
      "   A         B     C      D\n",
      "0  1     apple  10.5   True\n",
      "1  2    banana  20.5  False\n",
      "2  2    banana  20.5  False\n",
      "3  3    cherry  30.0   True\n",
      "4  3    cherry  30.0   True\n",
      "5  4      date  40.0  False\n",
      "6  5       fig  50.1   True\n",
      "7  1     apple  10.5   True\n",
      "8  6     grape  60.3  False\n",
      "9  7  honeydew  70.2   True\n",
      "   A         B     C      D\n",
      "0  1     apple  10.5   True\n",
      "1  2    banana  20.5  False\n",
      "2  2    banana  20.5  False\n",
      "3  3    cherry  30.0   True\n",
      "4  3    cherry  30.0   True\n",
      "5  4      date  40.0  False\n",
      "6  5       fig  50.1   True\n",
      "7  1     apple  10.5   True\n",
      "8  6     grape  60.3  False\n",
      "9  7  honeydew  70.2   True\n"
     ]
    }
   ],
   "source": [
    "data = {  \n",
    "    'A': [1, 2, 2, 3, 3, 4, 5, 1, 6, 7],  \n",
    "    'B': ['apple', 'banana', 'banana', 'cherry', 'cherry', 'date', 'fig', 'apple', 'grape', 'honeydew'],  \n",
    "    'C': [10.5, 20.5, 20.5, 30.0, 30.0, 40.0, 50.1, 10.5, 60.3, 70.2],  \n",
    "    'D': [True, False, False, True, True, False, True, True, False, True]  \n",
    "}  \n",
    "\n",
    "df = pd.DataFrame(data)  \n",
    "\n",
    "# Display the DataFrame  \n",
    "print(\"Original DataFrame:\")  \n",
    "print(df)\n",
    "\n",
    "df.duplicated()    # Check for duplicate rows\n",
    "df.drop_duplicates()  # Remove duplicates\n",
    "df.sample(5)       # Random sample of rows\n",
    "df.nunique()       # Count unique values per column\n",
    "\n",
    "# print(df)\n"
   ]
  },
  {
   "cell_type": "code",
   "execution_count": 110,
   "metadata": {},
   "outputs": [
    {
     "name": "stdout",
     "output_type": "stream",
     "text": [
      "Original DataFrame:\n",
      "   A  B  C   D\n",
      "0  1  5  2  10\n",
      "1  2  4  3  22\n",
      "2  3  3  4  30\n",
      "3  4  2  5  23\n",
      "4  5  1  6  39\n",
      "\n",
      "Correlation Matrix:\n",
      "          A         B         C         D\n",
      "A  1.000000 -1.000000  1.000000  0.871044\n",
      "B -1.000000  1.000000 -1.000000 -0.871044\n",
      "C  1.000000 -1.000000  1.000000  0.871044\n",
      "D  0.871044 -0.871044  0.871044  1.000000\n"
     ]
    }
   ],
   "source": [
    "# Creating a sample DataFrame  \n",
    "data = {  \n",
    "    'A': [1, 2, 3, 4, 5],  \n",
    "    'B': [5, 4, 3, 2, 1],  \n",
    "    'C': [2, 3, 4, 5, 6],  \n",
    "    'D': [10, 22, 30, 23, 39]  \n",
    "}  \n",
    "\n",
    "df = pd.DataFrame(data)  \n",
    "\n",
    "print(\"Original DataFrame:\")  \n",
    "print(df)  \n",
    "# Calculate the correlation matrix  \n",
    "correlation_matrix = df.corr()  \n",
    "print(\"\\nCorrelation Matrix:\")  \n",
    "print(correlation_matrix)"
   ]
  },
  {
   "cell_type": "markdown",
   "metadata": {},
   "source": [
    "## MultiIndex DataFrames"
   ]
  },
  {
   "cell_type": "code",
   "execution_count": 116,
   "metadata": {},
   "outputs": [
    {
     "data": {
      "text/html": [
       "<div>\n",
       "<style scoped>\n",
       "    .dataframe tbody tr th:only-of-type {\n",
       "        vertical-align: middle;\n",
       "    }\n",
       "\n",
       "    .dataframe tbody tr th {\n",
       "        vertical-align: top;\n",
       "    }\n",
       "\n",
       "    .dataframe thead th {\n",
       "        text-align: right;\n",
       "    }\n",
       "</style>\n",
       "<table border=\"1\" class=\"dataframe\">\n",
       "  <thead>\n",
       "    <tr style=\"text-align: right;\">\n",
       "      <th></th>\n",
       "      <th>level_0</th>\n",
       "      <th>level_1</th>\n",
       "      <th>C1</th>\n",
       "      <th>C2</th>\n",
       "    </tr>\n",
       "  </thead>\n",
       "  <tbody>\n",
       "    <tr>\n",
       "      <th>0</th>\n",
       "      <td>A</td>\n",
       "      <td>one</td>\n",
       "      <td>0.897404</td>\n",
       "      <td>-0.949161</td>\n",
       "    </tr>\n",
       "    <tr>\n",
       "      <th>1</th>\n",
       "      <td>A</td>\n",
       "      <td>two</td>\n",
       "      <td>-1.912624</td>\n",
       "      <td>0.129652</td>\n",
       "    </tr>\n",
       "    <tr>\n",
       "      <th>2</th>\n",
       "      <td>B</td>\n",
       "      <td>one</td>\n",
       "      <td>1.958646</td>\n",
       "      <td>-1.326746</td>\n",
       "    </tr>\n",
       "    <tr>\n",
       "      <th>3</th>\n",
       "      <td>B</td>\n",
       "      <td>two</td>\n",
       "      <td>0.582637</td>\n",
       "      <td>0.171620</td>\n",
       "    </tr>\n",
       "  </tbody>\n",
       "</table>\n",
       "</div>"
      ],
      "text/plain": [
       "  level_0 level_1        C1        C2\n",
       "0       A     one  0.897404 -0.949161\n",
       "1       A     two -1.912624  0.129652\n",
       "2       B     one  1.958646 -1.326746\n",
       "3       B     two  0.582637  0.171620"
      ]
     },
     "execution_count": 116,
     "metadata": {},
     "output_type": "execute_result"
    }
   ],
   "source": [
    "# Create MultiIndex DataFrame\n",
    "arrays = [['A', 'A', 'B', 'B'], ['one', 'two', 'one', 'two']]\n",
    "index = pd.MultiIndex.from_tuples(list(zip(*arrays)))\n",
    "df = pd.DataFrame(np.random.randn(4, 2), index=index, columns=['C1', 'C2'])\n",
    "df\n",
    "# Access MultiIndex data\n",
    "df.loc['A']           # Get all rows with outer index 'A'\n",
    "df.loc[('A', 'one')]  # Specific row\n",
    "df.reset_index()      # Flatten the MultiIndex\n"
   ]
  },
  {
   "cell_type": "markdown",
   "metadata": {},
   "source": [
    "## Stack/Unstack"
   ]
  },
  {
   "cell_type": "code",
   "execution_count": 117,
   "metadata": {},
   "outputs": [
    {
     "name": "stdout",
     "output_type": "stream",
     "text": [
      "Original DataFrame:\n",
      "                 A  B\n",
      "letters numbers      \n",
      "x       1        1  4\n",
      "        2        2  5\n",
      "y       1        3  6\n",
      "\n",
      "Unstacked DataFrame (Wide format):\n",
      "           A         B     \n",
      "numbers    1    2    1    2\n",
      "letters                    \n",
      "x        1.0  2.0  4.0  5.0\n",
      "y        3.0  NaN  6.0  NaN\n",
      "\n",
      "Stacked DataFrame (Back to Long format):\n",
      "                   A    B\n",
      "letters numbers          \n",
      "x       1        1.0  4.0\n",
      "        2        2.0  5.0\n",
      "y       1        3.0  6.0\n"
     ]
    },
    {
     "name": "stderr",
     "output_type": "stream",
     "text": [
      "C:\\Users\\User\\AppData\\Local\\Temp\\ipykernel_9352\\308130640.py:19: FutureWarning: The previous implementation of stack is deprecated and will be removed in a future version of pandas. See the What's New notes for pandas 2.1.0 for details. Specify future_stack=True to adopt the new implementation and silence this warning.\n",
      "  df_stacked = df_unstacked.stack()\n"
     ]
    }
   ],
   "source": [
    "\n",
    "# Sample data  \n",
    "data = {  \n",
    "    'A': [1, 2, 3],  \n",
    "    'B': [4, 5, 6]  \n",
    "}  \n",
    "index = pd.MultiIndex.from_tuples([('x', 1), ('x', 2), ('y', 1)], names=['letters', 'numbers'])  \n",
    "df = pd.DataFrame(data, index=index)  \n",
    "\n",
    "# df before unstacking  \n",
    "print(\"Original DataFrame:\")  \n",
    "print(df)  \n",
    "\n",
    "# Convert to wide format  \n",
    "df_unstacked = df.unstack()  \n",
    "print(\"\\nUnstacked DataFrame (Wide format):\")  \n",
    "print(df_unstacked)  \n",
    "\n",
    "# Convert back to long format  \n",
    "df_stacked = df_unstacked.stack()  \n",
    "print(\"\\nStacked DataFrame (Back to Long format):\")  \n",
    "print(df_stacked)  "
   ]
  },
  {
   "cell_type": "code",
   "execution_count": 127,
   "metadata": {},
   "outputs": [
    {
     "name": "stdout",
     "output_type": "stream",
     "text": [
      "     A\n",
      "0  foo\n",
      "1  bar\n",
      "2  foo\n",
      "3  bar\n",
      "4  foo\n",
      "     A Category\n",
      "0  foo      foo\n",
      "1  bar      bar\n",
      "2  foo      foo\n",
      "3  bar      bar\n",
      "4  foo      foo\n",
      "    A Category\n",
      "0   1      Low\n",
      "1   4      Low\n",
      "2   6   Medium\n",
      "3  10   Medium\n",
      "4  15     High\n",
      "5  22      NaN\n"
     ]
    }
   ],
   "source": [
    "\n",
    "data = {  \n",
    "    'A': ['foo', 'bar', 'foo', 'bar', 'foo']  \n",
    "}  \n",
    "\n",
    "df = pd.DataFrame(data)  \n",
    "print(df)\n",
    "\n",
    "# Convert column 'A' to category  \n",
    "df['Category'] = df['A'].astype('category')  \n",
    "\n",
    "print(df)\n",
    "\n",
    "numeric_data = {  \n",
    "    'A': [1, 4, 6, 10, 15, 22]  \n",
    "}  \n",
    "\n",
    "df = pd.DataFrame(numeric_data)\n",
    "df['Category'] = pd.cut(df['A'], bins=[0, 5, 10, 20], labels=['Low', 'Medium', 'High'])\n",
    "\n",
    "print(df)  "
   ]
  },
  {
   "cell_type": "code",
   "execution_count": 143,
   "metadata": {},
   "outputs": [
    {
     "name": "stdout",
     "output_type": "stream",
     "text": [
      "        Date  Value\n",
      "0 2024-01-01     10\n",
      "1 2024-01-02     20\n",
      "2 2024-01-03     30\n",
      "            Value\n",
      "Date             \n",
      "2024-01-01     10\n",
      "2024-01-02     20\n",
      "2024-01-03     30\n",
      "            Value\n",
      "Date             \n",
      "2024-01-31   20.0\n",
      "            Value\n",
      "Date             \n",
      "2024-01-07     60\n"
     ]
    }
   ],
   "source": [
    "\n",
    "data = {  \n",
    "    'Date': ['2024-01-01', '2024-01-02', '2024-01-03'],  \n",
    "    'Value': [10, 20, 30]  \n",
    "}  \n",
    "\n",
    "df = pd.DataFrame(data)  \n",
    "\n",
    "# Convert 'Date' to datetime  \n",
    "df['Date'] = pd.to_datetime(df['Date'])  \n",
    "print(df)  \n",
    "df.set_index('Date', inplace=True)  # Set datetime index\n",
    "print(df)\n",
    "monthly_avg = df.resample('ME').mean()  # Monthly average\n",
    "print(monthly_avg)\n",
    "weekly_sum = df.resample('W').sum()  # Weekly sum\n",
    "print(weekly_sum)"
   ]
  }
 ],
 "metadata": {
  "kernelspec": {
   "display_name": "Python 3",
   "language": "python",
   "name": "python3"
  },
  "language_info": {
   "codemirror_mode": {
    "name": "ipython",
    "version": 3
   },
   "file_extension": ".py",
   "mimetype": "text/x-python",
   "name": "python",
   "nbconvert_exporter": "python",
   "pygments_lexer": "ipython3",
   "version": "3.13.0"
  }
 },
 "nbformat": 4,
 "nbformat_minor": 2
}
