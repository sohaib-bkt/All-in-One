{
 "cells": [
  {
   "cell_type": "markdown",
   "metadata": {},
   "source": [
    "## ex 1"
   ]
  },
  {
   "cell_type": "code",
   "execution_count": 1,
   "metadata": {},
   "outputs": [
    {
     "name": "stdout",
     "output_type": "stream",
     "text": [
      "Fin du programme.\n"
     ]
    }
   ],
   "source": [
    "import turtle\n",
    "import random\n",
    "\n",
    "listeCol = [\"red\", \"yellow\", \"blue\", \"black\", \"gray\", \"green\", \"purple\", \"orange\", \"brown\", \"pink\"]\n",
    "\n",
    "t = turtle.Turtle()\n",
    "t.speed(0) \n",
    "\n",
    "while True:\n",
    "    rayon = int(input(\"Entrez le rayon du cercle (tapez une valeur hors de 10-100 pour arrêter) : \"))\n",
    "    \n",
    "    if rayon < 10 or rayon > 100:\n",
    "        print(\"Fin du programme.\")\n",
    "        break\n",
    "    \n",
    "    couleur = random.choice(listeCol)  \n",
    "    x = random.randint(-200, 200)  \n",
    "    y = random.randint(-200, 200)  \n",
    " \n",
    "    t.penup()\n",
    "    t.goto(x, y - rayon)  \n",
    "    t.pendown()\n",
    "    t.pencolor(couleur)\n",
    "    t.circle(rayon)\n",
    "\n",
    "turtle.done()\n"
   ]
  },
  {
   "cell_type": "markdown",
   "metadata": {},
   "source": [
    "# ex 2"
   ]
  },
  {
   "cell_type": "code",
   "execution_count": 26,
   "metadata": {},
   "outputs": [
    {
     "name": "stdout",
     "output_type": "stream",
     "text": [
      "[{'nom': 'Alaoui', 'prenom': 'Ali', 'notes': [13, 15, 11]}, {'nom': 'bouktiba', 'prenom': 'Sohaib', 'notes': [13, 15, 15]}]\n",
      "[]\n"
     ]
    }
   ],
   "source": [
    "## 1-a\n",
    "d = {\"nom\": 'Alaoui', \"prenom\" : 'Ali' , \"notes\": [13, 15 , 11] }\n",
    "def lireEtudiant() :\n",
    "    nomEtu=input(\"Nom:\")\n",
    "    prenomEtu=input(\"Prénom:\")\n",
    "    x,y,z=input(\"Donner trois notes séparées par des virgules :\").split(',')\n",
    "    etudiant={\"nom\": \"nomEtu\", \"prenom\" : \"prenomEtud\" , \"notes\":[x,y,z]}\n",
    "    print(etudiant)\n",
    "# lireEtudiant()\n",
    "## 1-b\n",
    "\n",
    "listeEtudiants=[{\"nom\": 'Alaoui', \"prenom\" : 'Ali' , \"notes\": [13, 15 , 11] },{\"nom\": 'bouktiba', \"prenom\" : 'Sohaib' , \"notes\": [13, 15 , 15] }]\n",
    "def lireEtudiant() :\n",
    "    nomEtu=input(\"Nom:\")\n",
    "    prenomEtu=input(\"Prénom:\")\n",
    "    x,y,z=input(\"Donner trois notes séparées par des virgules :\").split(',')\n",
    "    listeEtudiants.append({\"nom\": nomEtu, \"prenom\" : prenomEtu , \"notes\":[x,y,z]})\n",
    "# lireEtudiant()\n",
    "# print(listeEtudiants)\n",
    "\n",
    "## 2\n",
    "moyenns =[]\n",
    "def moyenne(listeEtudiants):\n",
    "    for etudiant in listeEtudiants:\n",
    "        moyenne=sum(etudiant[\"notes\"])/len(etudiant[\"notes\"])\n",
    "        moyenns.append(moyenne)\n",
    "        \n",
    "\n",
    "# moyenne(listeEtudiants)\n",
    "# moyenne(listeEtudiants)\n",
    "print(moyenns)\n",
    "\n",
    "## 3\n",
    "lireEtudiant()\n",
    "moyenne(listeEtudiants)\n",
    "\n"
   ]
  },
  {
   "cell_type": "markdown",
   "metadata": {},
   "source": [
    "## ex 3"
   ]
  },
  {
   "cell_type": "code",
   "execution_count": 28,
   "metadata": {},
   "outputs": [
    {
     "data": {
      "text/plain": [
       "'Janvier'"
      ]
     },
     "execution_count": 28,
     "metadata": {},
     "output_type": "execute_result"
    }
   ],
   "source": [
    "def nomMois(n):  \n",
    "    mois = [\"Janvier\", \"Février\", \"Mars\", \"Avril\", \"Mai\", \"Juin\",   \n",
    "            \"Juillet\", \"Août\", \"Septembre\", \"Octobre\", \"Novembre\", \"Décembre\"]  \n",
    "    return mois[n-1]  # n commence à 1\n",
    "nomMois(1)  "
   ]
  },
  {
   "cell_type": "markdown",
   "metadata": {},
   "source": [
    "## ex 4"
   ]
  },
  {
   "cell_type": "code",
   "execution_count": 1,
   "metadata": {},
   "outputs": [
    {
     "name": "stdout",
     "output_type": "stream",
     "text": [
      "Les données ont été enregistrées dans 'voitures.dat'.\n"
     ]
    }
   ],
   "source": [
    "import os\n",
    "\n",
    "# 1. Fonction pour lire les informations d'une voiture\n",
    "def enter_data():\n",
    "    matricule = input(\"Entrez le matricule : \")\n",
    "    marque = input(\"Entrez la marque : \")\n",
    "    modele = input(\"Entrez le modèle : \")\n",
    "    prix = input(\"Entrez le prix : \")\n",
    "    \n",
    "    return {\n",
    "        \"matricule\": matricule,\n",
    "        \"marque\": marque,\n",
    "        \"modele\": modele,\n",
    "        \"prix\": prix\n",
    "    }\n",
    "\n",
    "# 2. Fonction pour enregistrer une liste de voitures dans un fichier\n",
    "def save_data(fichier=\"voitures.dat\", liste=[]):\n",
    "    with open(fichier, \"w\") as f:\n",
    "        for voiture in liste:\n",
    "            ligne = f\"{voiture['matricule']}#{voiture['marque']}#{voiture['modele']}#{voiture['prix']}\\n\"\n",
    "            f.write(ligne)\n",
    "\n",
    "# 3. Programme principal\n",
    "def main():\n",
    "    voitures = []  # Liste vide pour stocker les voitures\n",
    "\n",
    "    while True:\n",
    "        voiture = enter_data()\n",
    "        voitures.append(voiture)\n",
    "        \n",
    "        continuer = input(\"Voulez-vous ajouter une autre voiture ? (o/n) : \").strip().lower()\n",
    "        if continuer != 'o':\n",
    "            break\n",
    "\n",
    "    fichier = input(\"Entrez le nom du fichier pour enregistrer (laisser vide pour 'voitures.dat') : \").strip()\n",
    "    if not fichier:\n",
    "        fichier = \"voitures.dat\"\n",
    "\n",
    "    save_data(fichier, voitures)\n",
    "    print(f\"Les données ont été enregistrées dans '{fichier}'.\")\n",
    "\n",
    "# Lancer le programme\n",
    "if __name__ == \"__main__\":\n",
    "    main()\n",
    "    \n"
   ]
  }
 ],
 "metadata": {
  "kernelspec": {
   "display_name": "Python 3",
   "language": "python",
   "name": "python3"
  },
  "language_info": {
   "codemirror_mode": {
    "name": "ipython",
    "version": 3
   },
   "file_extension": ".py",
   "mimetype": "text/x-python",
   "name": "python",
   "nbconvert_exporter": "python",
   "pygments_lexer": "ipython3",
   "version": "3.13.0"
  }
 },
 "nbformat": 4,
 "nbformat_minor": 2
}
