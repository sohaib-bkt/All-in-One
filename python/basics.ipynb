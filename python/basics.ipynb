{
 "cells": [
  {
   "cell_type": "code",
   "execution_count": 2,
   "metadata": {},
   "outputs": [
    {
     "name": "stdout",
     "output_type": "stream",
     "text": [
      "1\n"
     ]
    }
   ],
   "source": [
    "print(number := 1)"
   ]
  },
  {
   "cell_type": "code",
   "execution_count": 3,
   "metadata": {},
   "outputs": [
    {
     "name": "stdout",
     "output_type": "stream",
     "text": [
      "sohaibsohaib\n",
      "sohaibbkt 1\n",
      "sohaib bkt\n",
      "bkt sohaib\n",
      "sohaib bkt \n",
      "so,sa\n",
      "sohaib 1\n",
      "1\n"
     ]
    },
    {
     "data": {
      "text/plain": [
       "str"
      ]
     },
     "execution_count": 3,
     "metadata": {},
     "output_type": "execute_result"
    }
   ],
   "source": [
    "print('sohaib' *2)\n",
    "print('sohaib' 'bkt' , number)\n",
    "\n",
    "phrase = ['sohaib', 'bkt']\n",
    "\n",
    "print(' '.join(phrase))\n",
    "print(' '.join(reversed(phrase)))\n",
    "\n",
    "for word in phrase:\n",
    "    print(word , end=' ')\n",
    "\n",
    "print()\n",
    "print('so' , 'sa' , sep=',')\n",
    "\n",
    "print(f'sohaib {number}')\n",
    "\n",
    "len(phrase)\n",
    "\n",
    "print(a := str(number))\n",
    "type(a)\n",
    "\n"
   ]
  },
  {
   "cell_type": "code",
   "execution_count": 4,
   "metadata": {},
   "outputs": [
    {
     "name": "stdout",
     "output_type": "stream",
     "text": [
      "child\n"
     ]
    },
    {
     "data": {
      "text/plain": [
       "3"
      ]
     },
     "execution_count": 4,
     "metadata": {},
     "output_type": "execute_result"
    }
   ],
   "source": [
    "# built-in functions\n",
    "# https://www.pythoncheatsheet.org/cheatsheet/built-in-functions\n",
    "\n",
    "# control flow\n",
    "print('adult' if number > 18 else 'child')\n",
    "\n",
    "# lambda functions\n",
    "add = lambda x, y: x + y\n",
    "add(1, 2)\n",
    "\n"
   ]
  },
  {
   "cell_type": "markdown",
   "metadata": {},
   "source": [
    "- list []: An ordered collection that allows duplicate elements.\n",
    "\n",
    "- Tuples (): An ordered collection that can also contain duplicates but is immutable (cannot be changed once created).\n",
    "\n",
    "- Sets {}: An unordered collection that does not allow duplicate elements.\n"
   ]
  },
  {
   "cell_type": "code",
   "execution_count": 5,
   "metadata": {},
   "outputs": [
    {
     "name": "stdout",
     "output_type": "stream",
     "text": [
      "0 a\n",
      "1 b\n",
      "2 c\n",
      "\n",
      "a 1\n",
      "b 2\n",
      "c 5\n",
      "\n",
      "True\n",
      "\n",
      "['table', 'shelf']\n",
      "\n",
      "('cat', 'dog', 5)\n",
      "['cat', 'dog', 5]\n"
     ]
    },
    {
     "data": {
      "text/plain": [
       "['h', 'e', 'l', 'l', 'o']"
      ]
     },
     "execution_count": 5,
     "metadata": {},
     "output_type": "execute_result"
    }
   ],
   "source": [
    "table = ['a' ,'b' ,'c']\n",
    "\n",
    "for index, value in enumerate(table):\n",
    "    print(index, value)\n",
    "\n",
    "print()\n",
    "\n",
    "table2 = [1,2,5]\n",
    "for item , index in zip(table, table2):\n",
    "    print(item , index)\n",
    "\n",
    "print()\n",
    "\n",
    "print('a' in table)\n",
    "print()\n",
    "\n",
    "furniture = ['table', 'chair', 'rack', 'shelf']\n",
    "table, chair, rack, shelf = furniture\n",
    "\n",
    "del furniture[2]\n",
    "furniture.remove('chair')\n",
    "print(furniture)\n",
    "print()\n",
    "\n",
    "#tuples\n",
    "print(tuple(['cat', 'dog', 5]))\n",
    "# ('cat', 'dog', 5)\n",
    "\n",
    "print(list(('cat', 'dog', 5)))\n",
    "# ['cat', 'dog', 5]\n",
    "\n",
    "list('hello')\n",
    "# ['h', 'e', 'l', 'l', 'o']"
   ]
  },
  {
   "cell_type": "code",
   "execution_count": 6,
   "metadata": {},
   "outputs": [
    {
     "name": "stdout",
     "output_type": "stream",
     "text": [
      "fat\n",
      "\n",
      "Key: color Value: red\n",
      "Key: age Value: 42\n"
     ]
    }
   ],
   "source": [
    "# dictionaries\n",
    "my_cat = {\n",
    "    'size': 'fat',\n",
    "    'color': 'gray',\n",
    "    'disposition': 'loud'\n",
    "}\n",
    "\n",
    "print(my_cat['size'])\n",
    "print()\n",
    "\n",
    "pet = {'color': 'red', 'age': 42}\n",
    "for key, value in pet.items():\n",
    "    print(f'Key: {key} Value: {value}')\n",
    "\n",
    "# sets\n",
    "s = {1, 2, 3}"
   ]
  },
  {
   "cell_type": "code",
   "execution_count": 7,
   "metadata": {},
   "outputs": [
    {
     "data": {
      "text/plain": [
       "Counter({'e': 2, 'l': 2, 'o': 2, 'h': 1, 'a': 1, 'm': 1, 'r': 1})"
      ]
     },
     "execution_count": 7,
     "metadata": {},
     "output_type": "execute_result"
    }
   ],
   "source": [
    "from collections import Counter\n",
    "\n",
    "# Initialize\n",
    "c = Counter(['a','a','b'])    # From iterable\n",
    "c = Counter(\"hello\")          # From string\n",
    "\n",
    "# Operations\n",
    "c.most_common(2)      # Top 2 frequent elements\n",
    "c['a'] += 1           # Increment count\n",
    "c.update(\"more\")      # Add counts from iterable\n",
    "c.total()     \n",
    "c        # Sum of all counts"
   ]
  },
  {
   "cell_type": "code",
   "execution_count": 8,
   "metadata": {},
   "outputs": [
    {
     "data": {
      "text/plain": [
       "{'ali', 'as', 'mohammed', 'sohaib'}"
      ]
     },
     "execution_count": 8,
     "metadata": {},
     "output_type": "execute_result"
    }
   ],
   "source": [
    "invites = {'sohaib' , 'ali' , 'mohammed'}\n",
    "invites.add('sohaib')\n",
    "invites.add('as')\n",
    "invites"
   ]
  },
  {
   "cell_type": "code",
   "execution_count": 9,
   "metadata": {},
   "outputs": [
    {
     "name": "stdout",
     "output_type": "stream",
     "text": [
      "index: 0 - item: table\n",
      "index: 1 - item: chair\n",
      "index: 2 - item: rack\n",
      "index: 3 - item: shelf\n"
     ]
    }
   ],
   "source": [
    "furniture = ['table', 'chair', 'rack', 'shelf']\n",
    "\n",
    "for index, item in enumerate(furniture):\n",
    "     print(f'index: {index} - item: {item}')"
   ]
  },
  {
   "cell_type": "code",
   "execution_count": null,
   "metadata": {},
   "outputs": [],
   "source": [
    "furniture = ['table', 'chair', 'rack', 'shelf']\n",
    "price = [100, 50, 80, 40]\n",
    "\n",
    "for item, amount in zip(furniture, price):\n",
    "     print(f'The {item} costs ${amount}')"
   ]
  }
 ],
 "metadata": {
  "kernelspec": {
   "display_name": "Python 3",
   "language": "python",
   "name": "python3"
  },
  "language_info": {
   "codemirror_mode": {
    "name": "ipython",
    "version": 3
   },
   "file_extension": ".py",
   "mimetype": "text/x-python",
   "name": "python",
   "nbconvert_exporter": "python",
   "pygments_lexer": "ipython3",
   "version": "3.13.0"
  }
 },
 "nbformat": 4,
 "nbformat_minor": 2
}
