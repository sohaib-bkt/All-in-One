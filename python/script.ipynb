{
 "cells": [
  {
   "cell_type": "code",
   "execution_count": 2,
   "metadata": {},
   "outputs": [
    {
     "name": "stdout",
     "output_type": "stream",
     "text": [
      "\n",
      "Menu :\n",
      "1 - Calculer le max et le min des éléments d'un tableau\n",
      "2 - Afficher la conversion en binaire d'un entier\n",
      "3 - Vérifier si les éléments d'un tableau sont consécutifs\n",
      "4 - Vérifier si une matrice est symétrique\n",
      "5 - Quitter\n",
      "Représentation binaire : [1, 1, 0, 1]\n",
      "\n",
      "Menu :\n",
      "1 - Calculer le max et le min des éléments d'un tableau\n",
      "2 - Afficher la conversion en binaire d'un entier\n",
      "3 - Vérifier si les éléments d'un tableau sont consécutifs\n",
      "4 - Vérifier si une matrice est symétrique\n",
      "5 - Quitter\n",
      "Au revoir !\n"
     ]
    }
   ],
   "source": [
    "from model import remplir_liste, afficher_liste, remplir_matrice, afficher_matrice, min_max, binaire, consecutif, symetrique\n",
    "\n",
    "def menu():\n",
    "    while True:\n",
    "        print(\"\\nMenu :\")\n",
    "        print(\"1 - Calculer le max et le min des éléments d'un tableau\")\n",
    "        print(\"2 - Afficher la conversion en binaire d'un entier\")\n",
    "        print(\"3 - Vérifier si les éléments d'un tableau sont consécutifs\")\n",
    "        print(\"4 - Vérifier si une matrice est symétrique\")\n",
    "        print(\"5 - Quitter\")\n",
    "        \n",
    "        choix = int(input(\"Votre choix : \"))\n",
    "        \n",
    "        if choix == 1:\n",
    "            liste = remplir_liste()\n",
    "            afficher_liste(liste)\n",
    "            max_val, min_val = min_max(liste)\n",
    "            print(f\"Max : {max_val}, Min : {min_val}\")\n",
    "        elif choix == 2:\n",
    "            entier = int(input(\"Entrez un entier : \"))\n",
    "            print(f\"Représentation binaire : {binaire(entier)}\")\n",
    "        elif choix == 3:\n",
    "            liste = remplir_liste()\n",
    "            afficher_liste(liste)\n",
    "            if consecutif(liste):\n",
    "                print(\"Les éléments sont consécutifs.\")\n",
    "            else:\n",
    "                print(\"Les éléments ne sont pas consécutifs.\")\n",
    "        elif choix == 4:\n",
    "            lignes = int(input(\"Entrez le Nombre des lignes: \"))\n",
    "            colums = int(input(\"Entrez le Nombre des colums: \"))\n",
    "\n",
    "            matrice = remplir_matrice(lignes , colums)\n",
    "            print(matrice)\n",
    "\n",
    "            if symetrique(matrice):\n",
    "                print(\"La matrice est symétrique.\")\n",
    "            else:\n",
    "                print(\"La matrice n'est pas symétrique.\")\n",
    "        elif choix == 5:\n",
    "            print(\"Au revoir !\")\n",
    "            break\n",
    "        else:\n",
    "            print(\"Choix invalide. Veuillez réessayer.\")\n",
    "            \n",
    "menu()\n"
   ]
  }
 ],
 "metadata": {
  "kernelspec": {
   "display_name": "Python 3",
   "language": "python",
   "name": "python3"
  },
  "language_info": {
   "codemirror_mode": {
    "name": "ipython",
    "version": 3
   },
   "file_extension": ".py",
   "mimetype": "text/x-python",
   "name": "python",
   "nbconvert_exporter": "python",
   "pygments_lexer": "ipython3",
   "version": "3.13.0"
  }
 },
 "nbformat": 4,
 "nbformat_minor": 2
}
