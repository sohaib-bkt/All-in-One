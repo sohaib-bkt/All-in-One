{
 "cells": [
  {
   "cell_type": "markdown",
   "metadata": {},
   "source": [
    "# tp n3"
   ]
  },
  {
   "cell_type": "markdown",
   "metadata": {},
   "source": [
    "- exercice 1"
   ]
  },
  {
   "cell_type": "code",
   "execution_count": 1,
   "metadata": {},
   "outputs": [
    {
     "name": "stdout",
     "output_type": "stream",
     "text": [
      "[1, 2, 3, 4, 5, 6, 7, 8, 9, 10, 11, 12, 13, 14, 15, 16, 17, 18, 19, 20, 21, 22, 23, 24, 25, 26, 27, 28, 29, 30, 31, 32, 33, 34, 35, 36, 37, 38, 39, 40, 41, 42, 43, 44, 45, 46, 47, 48, 49, 50, 51, 52, 53, 54, 55, 56, 57, 58, 59, 60, 61, 62, 63, 64, 65, 66, 67, 68, 69, 70, 71, 72, 73, 74, 75, 76, 77, 78, 79, 80, 81, 82, 83, 84, 85, 86, 87, 88, 89, 90, 91, 92, 93, 94, 95, 96, 97, 98, 99, 100] [1, 2, 3, 4, 5, 6, 7, 8, 9, 10, 11, 12, 13, 14, 15, 16, 17, 18, 19, 20, 21, 22, 23, 24, 25, 26, 27, 28, 29, 30, 31, 32, 33, 34, 35, 36, 37, 38, 39, 40, 41, 42, 43, 44, 45, 46, 47, 48, 49, 50, 51, 52, 53, 54, 55, 56, 57, 58, 59, 60, 61, 62, 63, 64, 65, 66, 67, 68, 69, 70, 71, 72, 73, 74, 75, 76, 77, 78, 79, 80, 81, 82, 83, 84, 85, 86, 87, 88, 89, 90, 91, 92, 93, 94, 95, 96, 97, 98, 99, 100] [0, 1, 2, 3, 4, 5, 6, 7, 8, 9, 10, 11, 12, 13, 14, 15, 16, 17, 18, 19, 20, 21, 22, 23, 24, 25, 26, 27, 28, 29, 30, 31, 32, 33, 34, 35, 36, 37, 38, 39, 40, 41, 42, 43, 44, 45, 46, 47, 48, 49, 50, 51, 52, 53, 54, 55, 56, 57, 58, 59, 60, 61, 62, 63, 64, 65, 66, 67, 68, 69, 70, 71, 72, 73, 74, 75, 76, 77, 78, 79, 80, 81, 82, 83, 84, 85, 86, 87, 88, 89, 90, 91, 92, 93, 94, 95, 96, 97, 98, 99]\n"
     ]
    }
   ],
   "source": [
    "lst1 = [] \n",
    "for i in range (100): \n",
    " lst1.append (i+1)\n",
    "lst2 = [] \n",
    "for i in range (100) : \n",
    " lst2.append (i+1) \n",
    "lst3 = list(range (100)) \n",
    "print (lst1 , lst2 , lst3)"
   ]
  },
  {
   "cell_type": "code",
   "execution_count": 2,
   "metadata": {},
   "outputs": [
    {
     "name": "stdout",
     "output_type": "stream",
     "text": [
      "[1, 2, 3, 4, 5, 6, 7, 8, 9, 10, 11, 12, 13, 14, 15, 16, 17, 18, 19, 20, 21, 22, 23, 24, 25, 26, 27, 28, 29, 30, 31, 32, 33, 34, 35, 36, 37, 38, 39, 40, 41, 42, 43, 44, 45, 46, 47, 48, 49, 50, 51, 52, 53, 54, 55, 56, 57, 58, 59, 60, 61, 62, 63, 64, 65, 66, 67, 68, 69, 70, 71, 72, 73, 74, 75, 76, 77, 78, 79, 80, 81, 82, 83, 84, 85, 86, 87, 88, 89, 90, 91, 92, 93, 94, 95, 96, 97, 98, 99, 100] [1, 4, 8, 5] [1, 4, 8, 7]\n",
      "[1, 4, 8, 5, -1, 10, 11, 1, 4, 8, 5, 9, 10, 11] [1, 4, 8, 5, 9, 10, 11] [1, 4, 8, 7]\n"
     ]
    }
   ],
   "source": [
    "\n",
    "lst = [1 ,4 ,8 ,7] \n",
    "lst2 = lst \n",
    "lst3 = lst*1 \n",
    "lst[-1] = 5 \n",
    "print (lst1 , lst2 , lst3) \n",
    "lst2.extend([9,10,11]) \n",
    "lst= lst2+lst \n",
    "lst[4] = -1 \n",
    "print (lst,lst2 ,lst3) "
   ]
  },
  {
   "cell_type": "markdown",
   "metadata": {},
   "source": [
    "- exercice 2"
   ]
  },
  {
   "cell_type": "code",
   "execution_count": 3,
   "metadata": {},
   "outputs": [
    {
     "name": "stdout",
     "output_type": "stream",
     "text": [
      "[[0, 1, 2, 3], [0, 1, 2, 3], [0, 1, 2, 3]]\n",
      "-------\n",
      "[[0, 1, 4, 9], [0, 1, 4, 9], [0, 1, 4, 9]]\n",
      "-------\n",
      "0 1 4 9 \n",
      "0 1 4 9 \n",
      "0 1 4 9 \n"
     ]
    }
   ],
   "source": [
    "list_2  = [] \n",
    "for j in range (0,3): \n",
    "    list_1 = [] \n",
    "    for i in range(0,4):                    \n",
    "        list_1.append(i) \n",
    "    list_2.append(list_1) \n",
    "print(list_2)\n",
    "print('-------')\n",
    "list_3 = [[0 for i in range(4)]  for j in range(3)]\n",
    "for i in range(0,3):\n",
    "    for j in range(0,4): \n",
    "        list_3[i][j] =list_2[i][j] ** 2 \n",
    "\n",
    "print(list_3)\n",
    "print('-------')\n",
    "for i in range(0,3):\n",
    "    for j in range(0,4): \n",
    "        print(list_3[i][j], end = ' ')\n",
    "    print()\n"
   ]
  },
  {
   "cell_type": "markdown",
   "metadata": {},
   "source": [
    "- exercie 3"
   ]
  },
  {
   "cell_type": "code",
   "execution_count": 4,
   "metadata": {},
   "outputs": [
    {
     "name": "stdout",
     "output_type": "stream",
     "text": [
      "[3, 2, 6, 7, 9, 2, 3, 5, 6, 10, 4, 5]\n",
      "-------\n",
      "3 apparaît 2 fois\n",
      "2 apparaît 2 fois\n",
      "6 apparaît 2 fois\n",
      "7 apparaît 1 fois\n",
      "9 apparaît 1 fois\n",
      "5 apparaît 2 fois\n",
      "10 apparaît 1 fois\n",
      "4 apparaît 1 fois\n",
      "------\n",
      "Le nombre qui apparaît le plus souvent est 6, avec 2 occurrences.\n"
     ]
    }
   ],
   "source": [
    "import random\n",
    "n = int(input(\"Entrez un entier n : \"))\n",
    "list4 = [0] * (n)\n",
    "for i in range(n):\n",
    "    list4[i] = random.randint(1, 10)\n",
    "\n",
    "print(list4)\n",
    "print('-------')\n",
    "\n",
    "occurrences = {}\n",
    "for nombre in list4:\n",
    "    occurrences[nombre] = occurrences.get(nombre, 0) + 1\n",
    "\n",
    "# Afficher les occurrences\n",
    "for nombre, count in occurrences.items():\n",
    "    print(f\"{nombre} apparaît {count} fois\")\n",
    "    \n",
    "print('------')\n",
    "\n",
    "max_count = 0\n",
    "candidates = []  \n",
    "\n",
    "# Iterate through occurrences\n",
    "for nombre, count in occurrences.items():\n",
    "    if count > max_count:\n",
    "        max_count = count\n",
    "        candidates = [nombre]  \n",
    "    elif count == max_count:\n",
    "        candidates.append(nombre)  \n",
    "        \n",
    "max = 0\n",
    "for i in candidates:\n",
    "    if i > max:\n",
    "        max = i\n",
    "\n",
    "print(f\"Le nombre qui apparaît le plus souvent est {max}, avec {max_count} occurrences.\")\n",
    "\n",
    "\n",
    "\n",
    "\n"
   ]
  },
  {
   "cell_type": "code",
   "execution_count": 11,
   "metadata": {},
   "outputs": [
    {
     "data": {
      "text/plain": [
       "{1, 2, 3}"
      ]
     },
     "execution_count": 11,
     "metadata": {},
     "output_type": "execute_result"
    }
   ],
   "source": [
    "s1 = {1, 2, 3, 4, 5}\n",
    "s2 = {4, 5, 6, 7, 8}\n",
    "s1 & s2\n",
    "s1 | s2\n",
    "s1 - s2\n"
   ]
  },
  {
   "cell_type": "markdown",
   "metadata": {},
   "source": [
    "### exercice 5:"
   ]
  },
  {
   "cell_type": "code",
   "execution_count": 14,
   "metadata": {},
   "outputs": [
    {
     "name": "stdout",
     "output_type": "stream",
     "text": [
      "Jack\n",
      "Kack\n",
      "Lack\n",
      "Mack\n",
      "Nack\n",
      "Oack\n",
      "Pack\n"
     ]
    }
   ],
   "source": [
    "prefixes = 'JKLMNOP'\n",
    "suffix = 'ack'\n",
    "\n",
    "for letter in prefixes:\n",
    "    print(letter + suffix)"
   ]
  },
  {
   "cell_type": "code",
   "execution_count": 18,
   "metadata": {},
   "outputs": [
    {
     "name": "stdout",
     "output_type": "stream",
     "text": [
      "Nombre de mots : 5\n"
     ]
    }
   ],
   "source": [
    "phrase = input(\"Entrez une phrase : \")\n",
    "nombre_mots = len(phrase)\n",
    "print(f\"Nombre de mots : {nombre_mots}\")\n"
   ]
  },
  {
   "cell_type": "code",
   "execution_count": 5,
   "metadata": {},
   "outputs": [
    {
     "name": "stdout",
     "output_type": "stream",
     "text": [
      "Nombre total de caractères 'e', 'é', 'è', 'ê' : 3\n"
     ]
    }
   ],
   "source": [
    "phrase = input(\"Entrez une phrase : \")\n",
    "voyelles = ['e', 'é', 'è', 'ê']\n",
    "nombre_voyelles = sum(phrase.count(voyelle) for voyelle in voyelles)\n",
    "print(f\"Nombre total de caractères 'e', 'é', 'è', 'ê' : {nombre_voyelles}\")\n"
   ]
  },
  {
   "cell_type": "code",
   "execution_count": 6,
   "metadata": {},
   "outputs": [
    {
     "name": "stdout",
     "output_type": "stream",
     "text": [
      "Jean-Michel : 11 caractères\n",
      "Marc : 4 caractères\n",
      "Vanessa : 7 caractères\n",
      "Anne : 4 caractères\n",
      "Maximilien : 10 caractères\n",
      "Alexandre-Benoit : 16 caractères\n",
      "Louise : 6 caractères\n"
     ]
    }
   ],
   "source": [
    "noms = ['Jean-Michel', 'Marc', 'Vanessa', 'Anne', 'Maximilien', 'Alexandre-Benoit', 'Louise']\n",
    "\n",
    "for nom in noms:\n",
    "    print(f\"{nom} : {len(nom)} caractères\")\n"
   ]
  },
  {
   "cell_type": "code",
   "execution_count": 13,
   "metadata": {},
   "outputs": [
    {
     "name": "stdout",
     "output_type": "stream",
     "text": [
      "Jkasd Jklas\n"
     ]
    }
   ],
   "source": [
    "phrase = input(\"Entrez une phrase : \")\n",
    "phrase_modifiee = ' '.join(mot.capitalize() for mot in phrase.split())\n",
    "print(phrase_modifiee)\n"
   ]
  },
  {
   "cell_type": "markdown",
   "metadata": {},
   "source": [
    "# Continue\n"
   ]
  },
  {
   "cell_type": "code",
   "execution_count": 11,
   "metadata": {},
   "outputs": [
    {
     "name": "stdout",
     "output_type": "stream",
     "text": [
      "{'s', 'e', 't'}\n",
      "{'e', 't'}\n"
     ]
    }
   ],
   "source": [
    "aumoisUneFois = set()\n",
    "aumoisPlusFois = set()\n",
    "list1 = \"teest\"  \n",
    "\n",
    "for i in list1:\n",
    "    if i in aumoisUneFois:\n",
    "        aumoisPlusFois.add(i)\n",
    "    else:\n",
    "        aumoisUneFois.add(i)\n",
    "\n",
    "\n",
    "print(aumoisUneFois)\n",
    "print(aumoisPlusFois)\n",
    "    "
   ]
  },
  {
   "cell_type": "code",
   "execution_count": 12,
   "metadata": {},
   "outputs": [
    {
     "name": "stdout",
     "output_type": "stream",
     "text": [
      "{'mouse': 'souris', 'keyboard': 'clavier'}\n",
      "mouse\n",
      "keyboard\n"
     ]
    },
    {
     "data": {
      "text/plain": [
       "2"
      ]
     },
     "execution_count": 12,
     "metadata": {},
     "output_type": "execute_result"
    }
   ],
   "source": [
    "dico = {}\n",
    "dico['mouse'] = 'souris'\n",
    "dico['keyboard'] = 'clavier'\n",
    "print(dico)\n",
    "\n",
    "for key , value in dico.items() :\n",
    "    print(key)\n",
    "\n",
    "len(dico)\n",
    "\n",
    "# del dico['mouse']"
   ]
  },
  {
   "cell_type": "code",
   "execution_count": 18,
   "metadata": {},
   "outputs": [
    {
     "data": {
      "text/plain": [
       "{'mouse': 'souris', 'keyboard': 'clavier'}"
      ]
     },
     "execution_count": 18,
     "metadata": {},
     "output_type": "execute_result"
    }
   ],
   "source": [
    "dico.get('mouse')\n",
    "dico.keys()\n",
    "dico.values()\n",
    "dico.items()\n",
    "dico2 = dico.copy()\n",
    "dico2\n"
   ]
  },
  {
   "cell_type": "code",
   "execution_count": 21,
   "metadata": {},
   "outputs": [
    {
     "data": {
      "text/plain": [
       "['keyboard', 'mouse']"
      ]
     },
     "execution_count": 21,
     "metadata": {},
     "output_type": "execute_result"
    }
   ],
   "source": [
    "sorted(dico)\n",
    "sorted(dico , key=dico.get)"
   ]
  },
  {
   "cell_type": "code",
   "execution_count": 43,
   "metadata": {},
   "outputs": [
    {
     "name": "stdout",
     "output_type": "stream",
     "text": [
      "{'t': 4, 'e': 2, 's': 2}\n"
     ]
    }
   ],
   "source": [
    "text = 'test test'\n",
    "text = text.replace( \" \" , \"\" )\n",
    "dict = {}\n",
    "for i in text :\n",
    "    if  dict.get(i):\n",
    "        dict[i] = dict[i] + 1\n",
    "    else:\n",
    "        dict[i] = 1;\n",
    "print(dict)"
   ]
  },
  {
   "cell_type": "code",
   "execution_count": 4,
   "metadata": {},
   "outputs": [
    {
     "name": "stdout",
     "output_type": "stream",
     "text": [
      "{'numero': -2, 'nom': 'as', 'prenom': 'as', 'prix': 12.0, 'nom_equipe': 'as'}\n",
      "[]\n"
     ]
    }
   ],
   "source": [
    "joueur = {'numero' : 0 , 'nom' : '' , 'prenom' : '' , 'prix' : 0 , 'nom_equipe' : ''}\n",
    "n= 1\n",
    "list_dict = []\n",
    "while n > 0 :\n",
    "    n = int(input('entrer le nombre '))\n",
    "    joueur['numero']= n\n",
    "    joueur['nom']= input('entrer le nom ')\n",
    "    joueur['prenom']= input('entrer le prenom ')\n",
    "    joueur['prix']= float(input('entrer le prix '))\n",
    "    joueur['nom_equipe']= input('entrer le nom_equpe ')\n",
    "    if n > 0:\n",
    "        list_dict.append(joueur)\n",
    "\n",
    "print(joueur)\n",
    "n_eq = input(\"entre le nom \")\n",
    "list1 = []\n",
    "for dicte in list_dict:\n",
    "    if n_eq == dict['nom_equipe']:\n",
    "        list1.append(dicte)\n",
    "print(list1)\n",
    "    \n",
    "\n",
    "\n",
    "\n",
    "    "
   ]
  },
  {
   "cell_type": "code",
   "execution_count": 79,
   "metadata": {},
   "outputs": [],
   "source": [
    "import turtle as tr\n",
    "def triangle(p,d):\n",
    "    tr.pencolor(d)\n",
    "    for i in range(3):\n",
    "        tr.forward(p)\n",
    "        tr.left(120)\n",
    "for i in range(12):\n",
    "    triangle(150 , \"green\")\n",
    "    tr.left(30)\n",
    "\n",
    "\n",
    "\n"
   ]
  }
 ],
 "metadata": {
  "kernelspec": {
   "display_name": "Python 3",
   "language": "python",
   "name": "python3"
  },
  "language_info": {
   "codemirror_mode": {
    "name": "ipython",
    "version": 3
   },
   "file_extension": ".py",
   "mimetype": "text/x-python",
   "name": "python",
   "nbconvert_exporter": "python",
   "pygments_lexer": "ipython3",
   "version": "3.13.0"
  }
 },
 "nbformat": 4,
 "nbformat_minor": 2
}
