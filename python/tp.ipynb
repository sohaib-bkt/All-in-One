{
 "cells": [
  {
   "cell_type": "markdown",
   "metadata": {},
   "source": [
    "# tp n3"
   ]
  },
  {
   "cell_type": "markdown",
   "metadata": {},
   "source": [
    "- exercice 1"
   ]
  },
  {
   "cell_type": "code",
   "execution_count": 1,
   "metadata": {},
   "outputs": [
    {
     "name": "stdout",
     "output_type": "stream",
     "text": [
      "[1, 2, 3, 4, 5, 6, 7, 8, 9, 10, 11, 12, 13, 14, 15, 16, 17, 18, 19, 20, 21, 22, 23, 24, 25, 26, 27, 28, 29, 30, 31, 32, 33, 34, 35, 36, 37, 38, 39, 40, 41, 42, 43, 44, 45, 46, 47, 48, 49, 50, 51, 52, 53, 54, 55, 56, 57, 58, 59, 60, 61, 62, 63, 64, 65, 66, 67, 68, 69, 70, 71, 72, 73, 74, 75, 76, 77, 78, 79, 80, 81, 82, 83, 84, 85, 86, 87, 88, 89, 90, 91, 92, 93, 94, 95, 96, 97, 98, 99, 100] [1, 2, 3, 4, 5, 6, 7, 8, 9, 10, 11, 12, 13, 14, 15, 16, 17, 18, 19, 20, 21, 22, 23, 24, 25, 26, 27, 28, 29, 30, 31, 32, 33, 34, 35, 36, 37, 38, 39, 40, 41, 42, 43, 44, 45, 46, 47, 48, 49, 50, 51, 52, 53, 54, 55, 56, 57, 58, 59, 60, 61, 62, 63, 64, 65, 66, 67, 68, 69, 70, 71, 72, 73, 74, 75, 76, 77, 78, 79, 80, 81, 82, 83, 84, 85, 86, 87, 88, 89, 90, 91, 92, 93, 94, 95, 96, 97, 98, 99, 100] [0, 1, 2, 3, 4, 5, 6, 7, 8, 9, 10, 11, 12, 13, 14, 15, 16, 17, 18, 19, 20, 21, 22, 23, 24, 25, 26, 27, 28, 29, 30, 31, 32, 33, 34, 35, 36, 37, 38, 39, 40, 41, 42, 43, 44, 45, 46, 47, 48, 49, 50, 51, 52, 53, 54, 55, 56, 57, 58, 59, 60, 61, 62, 63, 64, 65, 66, 67, 68, 69, 70, 71, 72, 73, 74, 75, 76, 77, 78, 79, 80, 81, 82, 83, 84, 85, 86, 87, 88, 89, 90, 91, 92, 93, 94, 95, 96, 97, 98, 99]\n"
     ]
    }
   ],
   "source": [
    "lst1 = [] \n",
    "for i in range (100): \n",
    " lst1.append (i+1)\n",
    "lst2 = [] \n",
    "for i in range (100) : \n",
    " lst2.append (i+1) \n",
    "lst3 = list(range (100)) \n",
    "print (lst1 , lst2 , lst3)"
   ]
  },
  {
   "cell_type": "code",
   "execution_count": 2,
   "metadata": {},
   "outputs": [
    {
     "name": "stdout",
     "output_type": "stream",
     "text": [
      "[1, 2, 3, 4, 5, 6, 7, 8, 9, 10, 11, 12, 13, 14, 15, 16, 17, 18, 19, 20, 21, 22, 23, 24, 25, 26, 27, 28, 29, 30, 31, 32, 33, 34, 35, 36, 37, 38, 39, 40, 41, 42, 43, 44, 45, 46, 47, 48, 49, 50, 51, 52, 53, 54, 55, 56, 57, 58, 59, 60, 61, 62, 63, 64, 65, 66, 67, 68, 69, 70, 71, 72, 73, 74, 75, 76, 77, 78, 79, 80, 81, 82, 83, 84, 85, 86, 87, 88, 89, 90, 91, 92, 93, 94, 95, 96, 97, 98, 99, 100] [1, 4, 8, 5] [1, 4, 8, 7]\n",
      "[1, 4, 8, 5, -1, 10, 11, 1, 4, 8, 5, 9, 10, 11] [1, 4, 8, 5, 9, 10, 11] [1, 4, 8, 7]\n"
     ]
    }
   ],
   "source": [
    "\n",
    "lst = [1 ,4 ,8 ,7] \n",
    "lst2 = lst \n",
    "lst3 = lst*1 \n",
    "lst[-1] = 5 \n",
    "print (lst1 , lst2 , lst3) \n",
    "lst2.extend([9,10,11]) \n",
    "lst= lst2+lst \n",
    "lst[4] = -1 \n",
    "print (lst,lst2 ,lst3) "
   ]
  },
  {
   "cell_type": "markdown",
   "metadata": {},
   "source": [
    "- exercice 2"
   ]
  },
  {
   "cell_type": "code",
   "execution_count": 3,
   "metadata": {},
   "outputs": [
    {
     "name": "stdout",
     "output_type": "stream",
     "text": [
      "[[0, 1, 2, 3], [0, 1, 2, 3], [0, 1, 2, 3]]\n",
      "-------\n",
      "[[0, 1, 4, 9], [0, 1, 4, 9], [0, 1, 4, 9]]\n",
      "-------\n",
      "0 1 4 9 \n",
      "0 1 4 9 \n",
      "0 1 4 9 \n"
     ]
    }
   ],
   "source": [
    "list_2  = [] \n",
    "for j in range (0,3): \n",
    "    list_1 = [] \n",
    "    for i in range(0,4):                    \n",
    "        list_1.append(i) \n",
    "    list_2.append(list_1) \n",
    "print(list_2)\n",
    "print('-------')\n",
    "list_3 = [[0 for i in range(4)]  for j in range(3)]\n",
    "for i in range(0,3):\n",
    "    for j in range(0,4): \n",
    "        list_3[i][j] =list_2[i][j] ** 2 \n",
    "\n",
    "print(list_3)\n",
    "print('-------')\n",
    "for i in range(0,3):\n",
    "    for j in range(0,4): \n",
    "        print(list_3[i][j], end = ' ')\n",
    "    print()\n"
   ]
  },
  {
   "cell_type": "markdown",
   "metadata": {},
   "source": [
    "- exercie 3"
   ]
  },
  {
   "cell_type": "code",
   "execution_count": 4,
   "metadata": {},
   "outputs": [
    {
     "name": "stdout",
     "output_type": "stream",
     "text": [
      "[3, 2, 6, 7, 9, 2, 3, 5, 6, 10, 4, 5]\n",
      "-------\n",
      "3 apparaît 2 fois\n",
      "2 apparaît 2 fois\n",
      "6 apparaît 2 fois\n",
      "7 apparaît 1 fois\n",
      "9 apparaît 1 fois\n",
      "5 apparaît 2 fois\n",
      "10 apparaît 1 fois\n",
      "4 apparaît 1 fois\n",
      "------\n",
      "Le nombre qui apparaît le plus souvent est 6, avec 2 occurrences.\n"
     ]
    }
   ],
   "source": [
    "import random\n",
    "n = int(input(\"Entrez un entier n : \"))\n",
    "list4 = [0] * (n)\n",
    "for i in range(n):\n",
    "    list4[i] = random.randint(1, 10)\n",
    "\n",
    "print(list4)\n",
    "print('-------')\n",
    "\n",
    "occurrences = {}\n",
    "for nombre in list4:\n",
    "    occurrences[nombre] = occurrences.get(nombre, 0) + 1\n",
    "\n",
    "# Afficher les occurrences\n",
    "for nombre, count in occurrences.items():\n",
    "    print(f\"{nombre} apparaît {count} fois\")\n",
    "    \n",
    "print('------')\n",
    "\n",
    "max_count = 0\n",
    "candidates = []  \n",
    "\n",
    "# Iterate through occurrences\n",
    "for nombre, count in occurrences.items():\n",
    "    if count > max_count:\n",
    "        max_count = count\n",
    "        candidates = [nombre]  \n",
    "    elif count == max_count:\n",
    "        candidates.append(nombre)  \n",
    "        \n",
    "max = 0\n",
    "for i in candidates:\n",
    "    if i > max:\n",
    "        max = i\n",
    "\n",
    "print(f\"Le nombre qui apparaît le plus souvent est {max}, avec {max_count} occurrences.\")\n",
    "\n",
    "\n",
    "\n",
    "\n"
   ]
  }
 ],
 "metadata": {
  "kernelspec": {
   "display_name": "Python 3",
   "language": "python",
   "name": "python3"
  },
  "language_info": {
   "codemirror_mode": {
    "name": "ipython",
    "version": 3
   },
   "file_extension": ".py",
   "mimetype": "text/x-python",
   "name": "python",
   "nbconvert_exporter": "python",
   "pygments_lexer": "ipython3",
   "version": "3.13.0"
  }
 },
 "nbformat": 4,
 "nbformat_minor": 2
}
