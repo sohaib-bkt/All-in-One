{
 "cells": [
  {
   "cell_type": "code",
   "execution_count": 17,
   "metadata": {},
   "outputs": [
    {
     "name": "stdout",
     "output_type": "stream",
     "text": [
      "[5, 5, 4, 3, 1]\n"
     ]
    }
   ],
   "source": [
    "list1 = [1, 5, 3, 4, 5]\n",
    "list1.sort()\n",
    "list1.reverse()\n",
    "print(list1)"
   ]
  },
  {
   "cell_type": "code",
   "execution_count": 71,
   "metadata": {},
   "outputs": [
    {
     "name": "stdout",
     "output_type": "stream",
     "text": [
      "['Janvier', 31, 'Février', 28, 'Mars', 31, 'Avril', 30, 'Mai', 31, 'Juin', 30, 'Juillet', 31, 'Août', 31, 'Septembre', 30, 'Octobre', 31, 'Novembre', 30, 'Décembre', 31]\n"
     ]
    }
   ],
   "source": [
    "t1 = [31, 28, 31, 30, 31, 30, 31, 31, 30, 31, 30, 31]\n",
    "t2 = ['Janvier', 'Février', 'Mars', 'Avril', 'Mai', 'Juin','Juillet', 'Août',\n",
    "'Septembre', 'Octobre', 'Novembre', 'Décembre']\n",
    "t3 = []\n",
    "i = 0\n",
    "n=len(t1)\n",
    "while i < n:\n",
    "    t3=t3+[t2[i]]\n",
    "    t3=t3+[t1[i]]\n",
    "    i = i + 1\n",
    "\n",
    "print(t3)"
   ]
  },
  {
   "cell_type": "code",
   "execution_count": 74,
   "metadata": {},
   "outputs": [
    {
     "name": "stdout",
     "output_type": "stream",
     "text": [
      "[1, 'janvier 30 301', 2, 'fevrier 28 281']\n"
     ]
    }
   ],
   "source": [
    "list1 = ['janvier' , 'fevrier']\n",
    "list2 = []\n",
    "list3 = [30,28]\n",
    "n = 0\n",
    "while n < len(list1):\n",
    "    list2 = list2 + [n+1 , list1[n] + f' {list3[n]}']\n",
    "    n = n + 1\n",
    "n = 0\n",
    "for i in range(1 , len(list2), 2):\n",
    "    list2[i] = list2[i] + f' {list3[n]}1'\n",
    "    n += 1\n",
    "    \n",
    "print(list2)\n"
   ]
  },
  {
   "cell_type": "code",
   "execution_count": 69,
   "metadata": {},
   "outputs": [
    {
     "name": "stdout",
     "output_type": "stream",
     "text": [
      "[1, 'Janvier', 2, 'Février', 3, 'Mars', 4, 'Avril', 5, 'Mai', 6, 'Juin', 7, 'Juillet', 8, 'Août', 9, 'Septembre', 10, 'Octobre', 11, 'Novembre', 12, 'Décembre']\n",
      "[1, 'Janvier 30', 2, 'Février 28', 3, 'Mars 30', 4, 'Avril 31', 5, 'Mai 30', 6, 'Juin 31', 7, 'Juillet 30', 8, 'Août 31', 9, 'Septembre 30', 10, 'Octobre 31', 11, 'Novembre 30', 12, 'Décembre 31']\n"
     ]
    }
   ],
   "source": [
    "t= ['Janvier', 'Février', 'Mars', 'Avril', 'Mai', 'Juin','Juillet', 'Août', 'Septembre', 'Octobre', 'Novembre',\n",
    "'Décembre']\n",
    "i = 0;t1=[]; n=len(t)\n",
    "while i < n:#on construit tout d'abord une nouvelle liste t1 en ajoutant les numéros des mois à t\n",
    "    t1.extend([i+1,t[i]])\n",
    "    i+=1\n",
    "print(t1)\n",
    "t1[3:4]=[\"Février 28\"]#on remplace tout d'abord ce cas particulier\n",
    "for i in range(1,25,2):#maintenant i localise les mois et i-1 localise leurs numéros dans la liste t1\n",
    "\n",
    "    if i==3 : continue #février est déjà traité donc continuer vers mars\n",
    "    n=t1[i-1]#prendre le numéro du mois t1[i-1]\n",
    "    if n%2:\n",
    "        t1[i:i+1]=[t1[i]+str(' 30')]#on remplace le nom du mois t1[i] avec lui même concaténé avec 30\n",
    "\n",
    "    else:\n",
    "\n",
    "        t1[i:i+1]=[t1[i]+str(' 31')]\n",
    "\n",
    "t=t1\n",
    "print(t)"
   ]
  },
  {
   "cell_type": "code",
   "execution_count": null,
   "metadata": {},
   "outputs": [
    {
     "data": {
      "text/plain": [
       "['Bonjour', 'out le monde']"
      ]
     },
     "execution_count": 96,
     "metadata": {},
     "output_type": "execute_result"
    }
   ],
   "source": [
    "chain = \"Bonjour tout le monde\"\n",
    "list1 = chain.split(\" \")\n",
    "chain = \" \".join(list1)\n",
    "\n",
    "print(chain)"
   ]
  },
  {
   "cell_type": "code",
   "execution_count": 97,
   "metadata": {},
   "outputs": [
    {
     "data": {
      "text/plain": [
       "{'a', 'b', 'c', 'd', 'r'}"
      ]
     },
     "execution_count": 97,
     "metadata": {},
     "output_type": "execute_result"
    }
   ],
   "source": [
    "s2 = set(\"abracadabra\")\n",
    "s2"
   ]
  },
  {
   "cell_type": "code",
   "execution_count": 109,
   "metadata": {},
   "outputs": [
    {
     "name": "stdout",
     "output_type": "stream",
     "text": [
      "{1, 2, 3, 4, 5, 6, 7, 8}\n"
     ]
    },
    {
     "data": {
      "text/plain": [
       "{1, 2, 3, 4, 5}"
      ]
     },
     "execution_count": 109,
     "metadata": {},
     "output_type": "execute_result"
    }
   ],
   "source": [
    "s = {1, 2, 3, 4, 5}\n",
    "s2 = {4, 5, 6, 7, 8}\n",
    "s3 = s.union(s2)\n",
    "print(s3)\n",
    "s.intersection(s3)"
   ]
  },
  {
   "cell_type": "code",
   "execution_count": 128,
   "metadata": {},
   "outputs": [
    {
     "name": "stdout",
     "output_type": "stream",
     "text": [
      "##recherche des joueurs d'une équipe##\n",
      "Les joueurs de l'équipe : psg  sont : ['Dupont Jean', 'Durand Pierre']\n"
     ]
    }
   ],
   "source": [
    "\n",
    "print(\"##recherche des joueurs d'une équipe##\")\n",
    "dic = {\"nom\":\"Dupont\",\"prenom\":\"Jean\",\"age\":30,\"ville\":\"Paris\",\"nom_equipe\":\"psg\"}\n",
    "dic1 = {\"nom\":\"Durand\",\"prenom\":\"Pierre\",\"age\":25,\"ville\":\"Lyon\",\"nom_equipe\":\"psg\"}\n",
    "\n",
    "liste_joueurs = [dic]\n",
    "liste_joueurs.append(dic1)\n",
    "nomeq=input(\"Donner le nom d'équipe\")\n",
    "lst=[]#liste des joueurs de même équipe vide maintenant\n",
    "for joueur in liste_joueurs:\n",
    "    if nomeq==joueur[\"nom_equipe\"]:\n",
    "        lst.append(joueur.get(\"nom\")+\" \"+joueur.get(\"prenom\"))\n",
    "\n",
    "if len(lst)>0 :\n",
    "    print(\"Les joueurs de l'équipe :\",nomeq,\" sont :\",lst)\n",
    "else:\n",
    "    print(\"Aucun joueur trouvé pour l'équipe \",nomeq)"
   ]
  },
  {
   "cell_type": "code",
   "execution_count": 130,
   "metadata": {},
   "outputs": [
    {
     "name": "stdout",
     "output_type": "stream",
     "text": [
      "lst= [1] et x= 1\n"
     ]
    }
   ],
   "source": [
    "def fct1(liste,x):\n",
    "    liste+=[x] #modification\n",
    "    x+=2 # modification de x\n",
    "lst=[]\n",
    "x=1\n",
    "fct1(lst,x)\n",
    "print('lst=',lst,'et x=',x)"
   ]
  },
  {
   "cell_type": "code",
   "execution_count": 135,
   "metadata": {},
   "outputs": [
    {
     "name": "stdout",
     "output_type": "stream",
     "text": [
      "<class 'str'>\n",
      "<class 'str'>\n",
      "abbbbbbbbbbbbbbbbb\n"
     ]
    }
   ],
   "source": [
    "def changeCar(chaine, car1, car2, debut =0, fin =-1):\n",
    "\n",
    "    chaine2=chaine[debut:fin]\n",
    "    chaine2=chaine2.replace(car1,car2)\n",
    "    print(type(chaine2))\n",
    "    chaine3=chaine[:debut]+chaine2\n",
    "    print(type(chaine3))\n",
    "    return chaine3\n",
    "\n",
    "print(changeCar(\"aaaaaaaaaaaaaaaaaaa\",'a','b',1))"
   ]
  },
  {
   "cell_type": "code",
   "execution_count": 15,
   "metadata": {},
   "outputs": [
    {
     "data": {
      "text/plain": [
       "False"
      ]
     },
     "execution_count": 15,
     "metadata": {},
     "output_type": "execute_result"
    }
   ],
   "source": [
    "str(4) == 4"
   ]
  }
 ],
 "metadata": {
  "kernelspec": {
   "display_name": "Python 3",
   "language": "python",
   "name": "python3"
  },
  "language_info": {
   "codemirror_mode": {
    "name": "ipython",
    "version": 3
   },
   "file_extension": ".py",
   "mimetype": "text/x-python",
   "name": "python",
   "nbconvert_exporter": "python",
   "pygments_lexer": "ipython3",
   "version": "3.13.0"
  }
 },
 "nbformat": 4,
 "nbformat_minor": 2
}
