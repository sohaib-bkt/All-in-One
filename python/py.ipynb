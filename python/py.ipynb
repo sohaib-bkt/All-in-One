{
 "cells": [
  {
   "cell_type": "code",
   "execution_count": 17,
   "metadata": {},
   "outputs": [
    {
     "name": "stdout",
     "output_type": "stream",
     "text": [
      "[[11, 12, 13], [21, 22, 23], [31, 32, 33], [41, 42, 43]]\n"
     ]
    }
   ],
   "source": [
    "list1 = [[11, 12, 13], [21, 22, 23], [31, 32, 33], [41, 42, 43]]\n",
    "print(list1)   "
   ]
  },
  {
   "cell_type": "code",
   "execution_count": 18,
   "metadata": {},
   "outputs": [
    {
     "name": "stdout",
     "output_type": "stream",
     "text": [
      "11 12 13 \n",
      "21 22 23 \n",
      "31 32 33 \n",
      "41 42 43 \n"
     ]
    }
   ],
   "source": [
    "for i in range(len(list1)):\n",
    "    for j in range(len(list1[i])):\n",
    "        print(list1[i][j], end = \" \")\n",
    "    print()"
   ]
  },
  {
   "cell_type": "code",
   "execution_count": 19,
   "metadata": {},
   "outputs": [
    {
     "name": "stdout",
     "output_type": "stream",
     "text": [
      "[11, 12, 13]\n",
      "[21, 22, 23]\n",
      "[31, 32, 33]\n",
      "[41, 42, 43]\n"
     ]
    }
   ],
   "source": [
    "for i in range(len(list1)):\n",
    "    print(list1[i])"
   ]
  },
  {
   "cell_type": "code",
   "execution_count": 20,
   "metadata": {},
   "outputs": [
    {
     "name": "stdout",
     "output_type": "stream",
     "text": [
      "[1, 2, 3, 5, 6, 6, 7, 8, 9, 10]\n",
      "[1, 2, 3, 5, 6, 6, 7, 8, 9, 10, 11, 12, 13]\n",
      "<class 'list'>\n",
      "[38, 36, 34, 32, 30, 1, 2, 3, 5, 6, 7, 8, 9, 10]\n",
      "[36, 34, 32, 30, 1, 2, 3, 5, 6, 7, 8, 9, 10]\n",
      "[36, 34, 32, 30, 1, 2, 3, 5, 6, 7, 8, 9, 10, 11, 12, 13]\n",
      "[]\n"
     ]
    }
   ],
   "source": [
    "list1 = [1, 2, 3, 6, 5, 6, 7, 8, 9, 10]\n",
    "list1.sort()\n",
    "print(list1)\n",
    "# list1 + [11, 12, 13] ne modifier pas la liste principale\n",
    "list2 = list1 + [11, 12, 13]\n",
    "print(list2)\n",
    "list1.append(11)\n",
    "print(list)\n",
    "\n",
    "list1.index(6)\n",
    "# list1.index(6, 5)\n",
    "list1.count(6)\n",
    "list1.remove(6)\n",
    "\n",
    "for i in range(30,40,2):\n",
    "    list1.insert(0,i)\n",
    "list1.pop()\n",
    "print(list1)\n",
    "\n",
    "del list1[0]\n",
    "print(list1)\n",
    "\n",
    "list1.extend([11, 12, 13])\n",
    "print(list1)\n",
    "\n",
    "list1.clear()\n",
    "print(list1)"
   ]
  },
  {
   "cell_type": "code",
   "execution_count": 21,
   "metadata": {},
   "outputs": [
    {
     "data": {
      "text/plain": [
       "['s', 'o', 'aaaa', 'bbbbbb', 'h', 'a', 'i', 'b']"
      ]
     },
     "execution_count": 21,
     "metadata": {},
     "output_type": "execute_result"
    }
   ],
   "source": [
    "list1 = ['s' , 'o' , 'h' , 'a' , 'i' , 'b']\n",
    "list1[2:2] = ['aaaa','bbbbbb']\n",
    "# list1[2:4] = ['aaaa','bbbbbb'] \n",
    "list1\n"
   ]
  },
  {
   "cell_type": "code",
   "execution_count": 22,
   "metadata": {},
   "outputs": [
    {
     "name": "stdout",
     "output_type": "stream",
     "text": [
      "[1, 'janvier 30', 2, 'fevrier 28', 3, 'mars 30', 4, 'avril 30', 5, 'mai 30', 6, 'juin 30', 7, 'juillet 30', 8, 'aout 30', 9, 'septembre 30', 10, 'octobre 30', 11, 'novembre 30', 12, 'decembre 30']\n"
     ]
    }
   ],
   "source": [
    "list1 = ['janvier' , 'fevrier' , 'mars', 'avril', 'mai', 'juin', 'juillet', 'aout', 'septembre', 'octobre', 'novembre', 'decembre']\n",
    "j = 0\n",
    "\n",
    "for i in range(len(list1)):\n",
    "    list1[j:j] = [i+1]\n",
    "    j = j + 2\n",
    "\n",
    "list1[3:4] = [list1[3] + str(' 28')]\n",
    "\n",
    "for i in range(1 , len(list1) ,2):\n",
    "    if i == 3:\n",
    "        continue\n",
    "    n = i + 1\n",
    "    if n % 2 == 0:\n",
    "        list1[i:i+1] = [list1[i] + str(' 30')]\n",
    "    else:\n",
    "        list1[i:i+1] = [list1[i] + str(' 31')]\n",
    "    \n",
    "print(list1)"
   ]
  },
  {
   "cell_type": "code",
   "execution_count": 23,
   "metadata": {},
   "outputs": [
    {
     "name": "stdout",
     "output_type": "stream",
     "text": [
      "[1, 2, 3, 4, 5, 6, 7, 8, 9, 10, 11, 12, 13, 14, 15, 16, 17, 18, 19, 20, 21, 22, 23, 24, 25, 26, 27, 28, 29, 30, 31, 32, 33, 34, 35, 36, 37, 38, 39, 40, 41, 42, 43, 44, 45, 46, 47, 48, 49, 50, 51, 52, 53, 54, 55, 56, 57, 58, 59, 60, 61, 62, 63, 64, 65, 66, 67, 68, 69, 70, 71, 72, 73, 74, 75, 76, 77, 78, 79, 80, 81, 82, 83, 84, 85, 86, 87, 88, 89, 90, 91, 92, 93, 94, 95, 96, 97, 98, 99, 100] [1, 2, 3, 4, 5, 6, 7, 8, 9, 10, 11, 12, 13, 14, 15, 16, 17, 18, 19, 20, 21, 22, 23, 24, 25, 26, 27, 28, 29, 30, 31, 32, 33, 34, 35, 36, 37, 38, 39, 40, 41, 42, 43, 44, 45, 46, 47, 48, 49, 50, 51, 52, 53, 54, 55, 56, 57, 58, 59, 60, 61, 62, 63, 64, 65, 66, 67, 68, 69, 70, 71, 72, 73, 74, 75, 76, 77, 78, 79, 80, 81, 82, 83, 84, 85, 86, 87, 88, 89, 90, 91, 92, 93, 94, 95, 96, 97, 98, 99, 100] [0, 1, 2, 3, 4, 5, 6, 7, 8, 9, 10, 11, 12, 13, 14, 15, 16, 17, 18, 19, 20, 21, 22, 23, 24, 25, 26, 27, 28, 29, 30, 31, 32, 33, 34, 35, 36, 37, 38, 39, 40, 41, 42, 43, 44, 45, 46, 47, 48, 49, 50, 51, 52, 53, 54, 55, 56, 57, 58, 59, 60, 61, 62, 63, 64, 65, 66, 67, 68, 69, 70, 71, 72, 73, 74, 75, 76, 77, 78, 79, 80, 81, 82, 83, 84, 85, 86, 87, 88, 89, 90, 91, 92, 93, 94, 95, 96, 97, 98, 99]\n"
     ]
    }
   ],
   "source": [
    "lst1 = [] \n",
    "for i in range (100): \n",
    " lst1.append (i+1)\n",
    "lst2 = [] \n",
    "for i in range (100) : \n",
    " lst2.append (i+1) \n",
    "lst3 = list(range (100)) \n",
    "print (lst1 , lst2 , lst3)"
   ]
  },
  {
   "cell_type": "code",
   "execution_count": 24,
   "metadata": {},
   "outputs": [
    {
     "name": "stdout",
     "output_type": "stream",
     "text": [
      "[1, 2, 3, 4, 5, 6, 7, 8, 9, 10, 11, 12, 13, 14, 15, 16, 17, 18, 19, 20, 21, 22, 23, 24, 25, 26, 27, 28, 29, 30, 31, 32, 33, 34, 35, 36, 37, 38, 39, 40, 41, 42, 43, 44, 45, 46, 47, 48, 49, 50, 51, 52, 53, 54, 55, 56, 57, 58, 59, 60, 61, 62, 63, 64, 65, 66, 67, 68, 69, 70, 71, 72, 73, 74, 75, 76, 77, 78, 79, 80, 81, 82, 83, 84, 85, 86, 87, 88, 89, 90, 91, 92, 93, 94, 95, 96, 97, 98, 99, 100] [1, 4, 8, 5] [1, 4, 8, 7]\n",
      "[1, 4, 8, 5, -1, 10, 11, 1, 4, 8, 5, 9, 10, 11] [1, 4, 8, 5, 9, 10, 11] [1, 4, 8, 7]\n"
     ]
    }
   ],
   "source": [
    "\n",
    "lst = [1 ,4 ,8 ,7] \n",
    "lst2 = lst \n",
    "lst3 = lst*1 \n",
    "lst[-1] = 5 \n",
    "print (lst1 , lst2 , lst3) \n",
    "lst2.extend([9,10,11]) \n",
    "lst= lst2+lst \n",
    "lst[4] = -1 \n",
    "print (lst,lst2 ,lst3) "
   ]
  }
 ],
 "metadata": {
  "kernelspec": {
   "display_name": "Python 3",
   "language": "python",
   "name": "python3"
  },
  "language_info": {
   "codemirror_mode": {
    "name": "ipython",
    "version": 3
   },
   "file_extension": ".py",
   "mimetype": "text/x-python",
   "name": "python",
   "nbconvert_exporter": "python",
   "pygments_lexer": "ipython3",
   "version": "3.13.0"
  }
 },
 "nbformat": 4,
 "nbformat_minor": 2
}
