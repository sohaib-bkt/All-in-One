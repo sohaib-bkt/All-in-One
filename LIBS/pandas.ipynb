{
 "cells": [
  {
   "cell_type": "code",
   "execution_count": 30,
   "metadata": {},
   "outputs": [],
   "source": [
    "import pandas as pd\n",
    "import numpy as np"
   ]
  },
  {
   "cell_type": "code",
   "execution_count": 31,
   "metadata": {},
   "outputs": [
    {
     "name": "stdout",
     "output_type": "stream",
     "text": [
      "a    1\n",
      "b    2\n",
      "c    3\n",
      "dtype: int64\n",
      "\n",
      "   a\n",
      "a  1\n",
      "b  2\n",
      "c  3\n",
      "\n",
      "   a  b  c\n",
      "0  1  2  3\n",
      "1  2  3  4\n",
      "2  3  4  5\n",
      "\n",
      "        a  b  c\n",
      "first   1  2  3\n",
      "second  1  2  3\n",
      "\n"
     ]
    }
   ],
   "source": [
    "# Series: 1D labeled array\n",
    "s = pd.Series([1,2,3] , index=['a','b','c'])\n",
    "print(s)\n",
    "print()\n",
    "\n",
    "# DataFrame: 2D labeled array\n",
    "df = pd.DataFrame(s , columns=['a'])\n",
    "print(df)\n",
    "print()\n",
    "df2 = pd.DataFrame({'a':[1,2,3],'b':[2,3,4],'c':[3,4,5]})\n",
    "print(df2)\n",
    "print()\n",
    "df3 = pd.DataFrame([[1,2,3] , [1,2,3]], columns=['a','b','c'] , index=['first' , 'second'])\n",
    "print(df3)\n",
    "print()"
   ]
  },
  {
   "cell_type": "code",
   "execution_count": 32,
   "metadata": {},
   "outputs": [
    {
     "data": {
      "text/plain": [
       "RangeIndex(start=0, stop=5, step=1)"
      ]
     },
     "execution_count": 32,
     "metadata": {},
     "output_type": "execute_result"
    }
   ],
   "source": [
    "df = pd.DataFrame(np.random.randn(5, 5), columns=list('ABCDE'))\n",
    "df.head()        # First 5 rows\n",
    "df.tail(3)       # Last 3 rows\n",
    "df.shape         # Rows and columns\n",
    "# df.info()        # Summary of data\n",
    "df.describe()    # Statistical summary\n",
    "df.dtypes        # Data types of columns\n",
    "df.columns       # Column names\n",
    "df.index         # Row index\n"
   ]
  },
  {
   "cell_type": "code",
   "execution_count": 33,
   "metadata": {},
   "outputs": [
    {
     "name": "stdout",
     "output_type": "stream",
     "text": [
      "          A         B         C         D         E\n",
      "0 -0.199339 -0.551109  0.574346 -1.576796  0.979170\n",
      "1 -1.676494  1.415887  0.281648 -0.018072 -0.887186\n",
      "2 -0.435936  2.325626  0.021959  0.307235 -0.649168\n",
      "3 -0.109934  1.051027  1.192308  0.947166 -0.606884\n",
      "4 -1.896291  1.013347 -0.358879 -0.230505  1.369607\n"
     ]
    },
    {
     "data": {
      "text/html": [
       "<div>\n",
       "<style scoped>\n",
       "    .dataframe tbody tr th:only-of-type {\n",
       "        vertical-align: middle;\n",
       "    }\n",
       "\n",
       "    .dataframe tbody tr th {\n",
       "        vertical-align: top;\n",
       "    }\n",
       "\n",
       "    .dataframe thead th {\n",
       "        text-align: right;\n",
       "    }\n",
       "</style>\n",
       "<table border=\"1\" class=\"dataframe\">\n",
       "  <thead>\n",
       "    <tr style=\"text-align: right;\">\n",
       "      <th></th>\n",
       "      <th>A</th>\n",
       "      <th>B</th>\n",
       "    </tr>\n",
       "  </thead>\n",
       "  <tbody>\n",
       "    <tr>\n",
       "      <th>0</th>\n",
       "      <td>-0.199339</td>\n",
       "      <td>-0.551109</td>\n",
       "    </tr>\n",
       "    <tr>\n",
       "      <th>1</th>\n",
       "      <td>-1.676494</td>\n",
       "      <td>1.415887</td>\n",
       "    </tr>\n",
       "    <tr>\n",
       "      <th>2</th>\n",
       "      <td>-0.435936</td>\n",
       "      <td>2.325626</td>\n",
       "    </tr>\n",
       "    <tr>\n",
       "      <th>3</th>\n",
       "      <td>-0.109934</td>\n",
       "      <td>1.051027</td>\n",
       "    </tr>\n",
       "    <tr>\n",
       "      <th>4</th>\n",
       "      <td>-1.896291</td>\n",
       "      <td>1.013347</td>\n",
       "    </tr>\n",
       "  </tbody>\n",
       "</table>\n",
       "</div>"
      ],
      "text/plain": [
       "          A         B\n",
       "0 -0.199339 -0.551109\n",
       "1 -1.676494  1.415887\n",
       "2 -0.435936  2.325626\n",
       "3 -0.109934  1.051027\n",
       "4 -1.896291  1.013347"
      ]
     },
     "execution_count": 33,
     "metadata": {},
     "output_type": "execute_result"
    }
   ],
   "source": [
    "df = pd.DataFrame(np.random.randn(5, 5), columns=list('ABCDE') )\n",
    "print(df)\n",
    "df['A']         # Column A\n",
    "df.loc[0, 'A']  # Specific value\n",
    "df.loc[:, ['A', 'B']]  # Specific columns\n"
   ]
  },
  {
   "cell_type": "code",
   "execution_count": 34,
   "metadata": {},
   "outputs": [
    {
     "data": {
      "text/html": [
       "<div>\n",
       "<style scoped>\n",
       "    .dataframe tbody tr th:only-of-type {\n",
       "        vertical-align: middle;\n",
       "    }\n",
       "\n",
       "    .dataframe tbody tr th {\n",
       "        vertical-align: top;\n",
       "    }\n",
       "\n",
       "    .dataframe thead th {\n",
       "        text-align: right;\n",
       "    }\n",
       "</style>\n",
       "<table border=\"1\" class=\"dataframe\">\n",
       "  <thead>\n",
       "    <tr style=\"text-align: right;\">\n",
       "      <th></th>\n",
       "      <th>A</th>\n",
       "      <th>B</th>\n",
       "    </tr>\n",
       "  </thead>\n",
       "  <tbody>\n",
       "    <tr>\n",
       "      <th>1</th>\n",
       "      <td>-1.676494</td>\n",
       "      <td>1.415887</td>\n",
       "    </tr>\n",
       "    <tr>\n",
       "      <th>2</th>\n",
       "      <td>-0.435936</td>\n",
       "      <td>2.325626</td>\n",
       "    </tr>\n",
       "  </tbody>\n",
       "</table>\n",
       "</div>"
      ],
      "text/plain": [
       "          A         B\n",
       "1 -1.676494  1.415887\n",
       "2 -0.435936  2.325626"
      ]
     },
     "execution_count": 34,
     "metadata": {},
     "output_type": "execute_result"
    }
   ],
   "source": [
    "df.iloc[0]      # First row\n",
    "df.iloc[:, 1]   # Second column\n",
    "df.iloc[1:3, 0:2]  # Subset\n"
   ]
  },
  {
   "cell_type": "code",
   "execution_count": 35,
   "metadata": {},
   "outputs": [
    {
     "name": "stdout",
     "output_type": "stream",
     "text": [
      "          A         B         C         D         E\n",
      "0 -0.199339 -0.551109  0.574346 -1.576796  0.979170\n",
      "1 -1.676494  1.415887  0.281648 -0.018072 -0.887186\n",
      "2 -0.435936  2.325626  0.021959  0.307235 -0.649168\n",
      "3 -0.109934  1.051027  1.192308  0.947166 -0.606884\n",
      "4 -1.896291  1.013347 -0.358879 -0.230505  1.369607\n"
     ]
    },
    {
     "data": {
      "text/html": [
       "<div>\n",
       "<style scoped>\n",
       "    .dataframe tbody tr th:only-of-type {\n",
       "        vertical-align: middle;\n",
       "    }\n",
       "\n",
       "    .dataframe tbody tr th {\n",
       "        vertical-align: top;\n",
       "    }\n",
       "\n",
       "    .dataframe thead th {\n",
       "        text-align: right;\n",
       "    }\n",
       "</style>\n",
       "<table border=\"1\" class=\"dataframe\">\n",
       "  <thead>\n",
       "    <tr style=\"text-align: right;\">\n",
       "      <th></th>\n",
       "      <th>A</th>\n",
       "      <th>B</th>\n",
       "      <th>C</th>\n",
       "      <th>D</th>\n",
       "      <th>E</th>\n",
       "    </tr>\n",
       "  </thead>\n",
       "  <tbody>\n",
       "  </tbody>\n",
       "</table>\n",
       "</div>"
      ],
      "text/plain": [
       "Empty DataFrame\n",
       "Columns: [A, B, C, D, E]\n",
       "Index: []"
      ]
     },
     "execution_count": 35,
     "metadata": {},
     "output_type": "execute_result"
    }
   ],
   "source": [
    "print(df)\n",
    "df[df['A'] > 0]            # Rows where column A > 0\n",
    "df[(df['A'] > 0) & (df['B'] < 5)]  # Multiple conditions\n",
    "df.query('A > 0 and B < 5')        # Using query\n"
   ]
  },
  {
   "cell_type": "code",
   "execution_count": 36,
   "metadata": {},
   "outputs": [
    {
     "name": "stdout",
     "output_type": "stream",
     "text": [
      "          A         B   D         E\n",
      "0 -0.199339 -0.551109 NaN  0.039736\n",
      "1 -1.676494  1.415887 NaN  2.810631\n",
      "2 -0.435936  2.325626 NaN  0.190040\n",
      "3 -0.109934  1.051027 NaN  0.012085\n",
      "4 -1.896291  1.013347 NaN  3.595921\n"
     ]
    }
   ],
   "source": [
    "df['C'] = df['A'] + df['B']  # Add new column\n",
    "df['D'] = df['A'].apply(np.log)  # Apply function\n",
    "df['E'] = df['A'].map(lambda x: x**2)  # Map function\n",
    "df.drop('C', axis=1, inplace=True)  # Drop column\n",
    "df.drop([0, 1], axis=0)  # Drop rows\n",
    "print(df)\n"
   ]
  },
  {
   "cell_type": "code",
   "execution_count": 37,
   "metadata": {},
   "outputs": [
    {
     "data": {
      "text/html": [
       "<div>\n",
       "<style scoped>\n",
       "    .dataframe tbody tr th:only-of-type {\n",
       "        vertical-align: middle;\n",
       "    }\n",
       "\n",
       "    .dataframe tbody tr th {\n",
       "        vertical-align: top;\n",
       "    }\n",
       "\n",
       "    .dataframe thead th {\n",
       "        text-align: right;\n",
       "    }\n",
       "</style>\n",
       "<table border=\"1\" class=\"dataframe\">\n",
       "  <thead>\n",
       "    <tr style=\"text-align: right;\">\n",
       "      <th></th>\n",
       "      <th>F</th>\n",
       "      <th>A</th>\n",
       "      <th>B</th>\n",
       "      <th>C</th>\n",
       "      <th>D</th>\n",
       "      <th>E</th>\n",
       "    </tr>\n",
       "  </thead>\n",
       "  <tbody>\n",
       "    <tr>\n",
       "      <th>0</th>\n",
       "      <td>1.0</td>\n",
       "      <td>-0.316246</td>\n",
       "      <td>0.100959</td>\n",
       "      <td>-0.653183</td>\n",
       "      <td>-2.033965</td>\n",
       "      <td>-0.216129</td>\n",
       "    </tr>\n",
       "    <tr>\n",
       "      <th>1</th>\n",
       "      <td>2.0</td>\n",
       "      <td>0.694491</td>\n",
       "      <td>-1.605366</td>\n",
       "      <td>-0.040868</td>\n",
       "      <td>-0.911300</td>\n",
       "      <td>1.177175</td>\n",
       "    </tr>\n",
       "    <tr>\n",
       "      <th>2</th>\n",
       "      <td>3.0</td>\n",
       "      <td>-0.286185</td>\n",
       "      <td>2.947666</td>\n",
       "      <td>-1.062970</td>\n",
       "      <td>-1.556203</td>\n",
       "      <td>0.217513</td>\n",
       "    </tr>\n",
       "    <tr>\n",
       "      <th>3</th>\n",
       "      <td>2.0</td>\n",
       "      <td>-1.267246</td>\n",
       "      <td>-1.788767</td>\n",
       "      <td>0.558473</td>\n",
       "      <td>-0.077155</td>\n",
       "      <td>0.846880</td>\n",
       "    </tr>\n",
       "    <tr>\n",
       "      <th>4</th>\n",
       "      <td>2.0</td>\n",
       "      <td>-3.021835</td>\n",
       "      <td>0.808371</td>\n",
       "      <td>3.234892</td>\n",
       "      <td>0.144152</td>\n",
       "      <td>1.161817</td>\n",
       "    </tr>\n",
       "  </tbody>\n",
       "</table>\n",
       "</div>"
      ],
      "text/plain": [
       "     F         A         B         C         D         E\n",
       "0  1.0 -0.316246  0.100959 -0.653183 -2.033965 -0.216129\n",
       "1  2.0  0.694491 -1.605366 -0.040868 -0.911300  1.177175\n",
       "2  3.0 -0.286185  2.947666 -1.062970 -1.556203  0.217513\n",
       "3  2.0 -1.267246 -1.788767  0.558473 -0.077155  0.846880\n",
       "4  2.0 -3.021835  0.808371  3.234892  0.144152  1.161817"
      ]
     },
     "execution_count": 37,
     "metadata": {},
     "output_type": "execute_result"
    }
   ],
   "source": [
    "df  = pd.DataFrame(np.random.randn(5, 5), columns=list('ABCDE'))\n",
    "df.insert(0, 'F', [1, 2, 3, np.nan, np.nan])\n",
    "df.isnull()       # Check for missing values\n",
    "df.dropna()       # Drop rows with NaN\n",
    "df.fillna(0)      # Replace NaN with 0\n",
    "df.fillna(df.mean())  # Replace NaN with column mean\n"
   ]
  },
  {
   "cell_type": "markdown",
   "metadata": {},
   "source": [
    "## Sorting"
   ]
  },
  {
   "cell_type": "code",
   "execution_count": 38,
   "metadata": {},
   "outputs": [
    {
     "data": {
      "text/html": [
       "<div>\n",
       "<style scoped>\n",
       "    .dataframe tbody tr th:only-of-type {\n",
       "        vertical-align: middle;\n",
       "    }\n",
       "\n",
       "    .dataframe tbody tr th {\n",
       "        vertical-align: top;\n",
       "    }\n",
       "\n",
       "    .dataframe thead th {\n",
       "        text-align: right;\n",
       "    }\n",
       "</style>\n",
       "<table border=\"1\" class=\"dataframe\">\n",
       "  <thead>\n",
       "    <tr style=\"text-align: right;\">\n",
       "      <th></th>\n",
       "      <th>F</th>\n",
       "      <th>A</th>\n",
       "      <th>B</th>\n",
       "      <th>C</th>\n",
       "      <th>D</th>\n",
       "      <th>E</th>\n",
       "    </tr>\n",
       "  </thead>\n",
       "  <tbody>\n",
       "    <tr>\n",
       "      <th>0</th>\n",
       "      <td>1.0</td>\n",
       "      <td>-0.316246</td>\n",
       "      <td>0.100959</td>\n",
       "      <td>-0.653183</td>\n",
       "      <td>-2.033965</td>\n",
       "      <td>-0.216129</td>\n",
       "    </tr>\n",
       "    <tr>\n",
       "      <th>1</th>\n",
       "      <td>2.0</td>\n",
       "      <td>0.694491</td>\n",
       "      <td>-1.605366</td>\n",
       "      <td>-0.040868</td>\n",
       "      <td>-0.911300</td>\n",
       "      <td>1.177175</td>\n",
       "    </tr>\n",
       "    <tr>\n",
       "      <th>2</th>\n",
       "      <td>3.0</td>\n",
       "      <td>-0.286185</td>\n",
       "      <td>2.947666</td>\n",
       "      <td>-1.062970</td>\n",
       "      <td>-1.556203</td>\n",
       "      <td>0.217513</td>\n",
       "    </tr>\n",
       "    <tr>\n",
       "      <th>3</th>\n",
       "      <td>NaN</td>\n",
       "      <td>-1.267246</td>\n",
       "      <td>-1.788767</td>\n",
       "      <td>0.558473</td>\n",
       "      <td>-0.077155</td>\n",
       "      <td>0.846880</td>\n",
       "    </tr>\n",
       "    <tr>\n",
       "      <th>4</th>\n",
       "      <td>NaN</td>\n",
       "      <td>-3.021835</td>\n",
       "      <td>0.808371</td>\n",
       "      <td>3.234892</td>\n",
       "      <td>0.144152</td>\n",
       "      <td>1.161817</td>\n",
       "    </tr>\n",
       "  </tbody>\n",
       "</table>\n",
       "</div>"
      ],
      "text/plain": [
       "     F         A         B         C         D         E\n",
       "0  1.0 -0.316246  0.100959 -0.653183 -2.033965 -0.216129\n",
       "1  2.0  0.694491 -1.605366 -0.040868 -0.911300  1.177175\n",
       "2  3.0 -0.286185  2.947666 -1.062970 -1.556203  0.217513\n",
       "3  NaN -1.267246 -1.788767  0.558473 -0.077155  0.846880\n",
       "4  NaN -3.021835  0.808371  3.234892  0.144152  1.161817"
      ]
     },
     "execution_count": 38,
     "metadata": {},
     "output_type": "execute_result"
    }
   ],
   "source": [
    "df.sort_values(by='A', ascending=True)  # Sort by column A\n",
    "df.sort_index()                          # Sort by index\n"
   ]
  },
  {
   "cell_type": "markdown",
   "metadata": {},
   "source": [
    "## Aggregations and Grouping"
   ]
  },
  {
   "cell_type": "code",
   "execution_count": 39,
   "metadata": {},
   "outputs": [
    {
     "data": {
      "text/html": [
       "<div>\n",
       "<style scoped>\n",
       "    .dataframe tbody tr th:only-of-type {\n",
       "        vertical-align: middle;\n",
       "    }\n",
       "\n",
       "    .dataframe tbody tr th {\n",
       "        vertical-align: top;\n",
       "    }\n",
       "\n",
       "    .dataframe thead th {\n",
       "        text-align: right;\n",
       "    }\n",
       "</style>\n",
       "<table border=\"1\" class=\"dataframe\">\n",
       "  <thead>\n",
       "    <tr style=\"text-align: right;\">\n",
       "      <th></th>\n",
       "      <th>F</th>\n",
       "      <th>B</th>\n",
       "      <th>C</th>\n",
       "      <th>D</th>\n",
       "      <th>E</th>\n",
       "    </tr>\n",
       "    <tr>\n",
       "      <th>A</th>\n",
       "      <th></th>\n",
       "      <th></th>\n",
       "      <th></th>\n",
       "      <th></th>\n",
       "      <th></th>\n",
       "    </tr>\n",
       "  </thead>\n",
       "  <tbody>\n",
       "    <tr>\n",
       "      <th>-3.021835</th>\n",
       "      <td>0.0</td>\n",
       "      <td>0.808371</td>\n",
       "      <td>3.234892</td>\n",
       "      <td>0.144152</td>\n",
       "      <td>1.161817</td>\n",
       "    </tr>\n",
       "    <tr>\n",
       "      <th>-1.267246</th>\n",
       "      <td>0.0</td>\n",
       "      <td>-1.788767</td>\n",
       "      <td>0.558473</td>\n",
       "      <td>-0.077155</td>\n",
       "      <td>0.846880</td>\n",
       "    </tr>\n",
       "    <tr>\n",
       "      <th>-0.316246</th>\n",
       "      <td>1.0</td>\n",
       "      <td>0.100959</td>\n",
       "      <td>-0.653183</td>\n",
       "      <td>-2.033965</td>\n",
       "      <td>-0.216129</td>\n",
       "    </tr>\n",
       "    <tr>\n",
       "      <th>-0.286185</th>\n",
       "      <td>3.0</td>\n",
       "      <td>2.947666</td>\n",
       "      <td>-1.062970</td>\n",
       "      <td>-1.556203</td>\n",
       "      <td>0.217513</td>\n",
       "    </tr>\n",
       "    <tr>\n",
       "      <th>0.694491</th>\n",
       "      <td>2.0</td>\n",
       "      <td>-1.605366</td>\n",
       "      <td>-0.040868</td>\n",
       "      <td>-0.911300</td>\n",
       "      <td>1.177175</td>\n",
       "    </tr>\n",
       "  </tbody>\n",
       "</table>\n",
       "</div>"
      ],
      "text/plain": [
       "             F         B         C         D         E\n",
       "A                                                     \n",
       "-3.021835  0.0  0.808371  3.234892  0.144152  1.161817\n",
       "-1.267246  0.0 -1.788767  0.558473 -0.077155  0.846880\n",
       "-0.316246  1.0  0.100959 -0.653183 -2.033965 -0.216129\n",
       "-0.286185  3.0  2.947666 -1.062970 -1.556203  0.217513\n",
       " 0.694491  2.0 -1.605366 -0.040868 -0.911300  1.177175"
      ]
     },
     "execution_count": 39,
     "metadata": {},
     "output_type": "execute_result"
    }
   ],
   "source": [
    "df.sum()           # Sum of each column\n",
    "df.mean()          # Mean of each column\n",
    "df.groupby('A').sum()  # Group by column A and sum\n"
   ]
  },
  {
   "cell_type": "markdown",
   "metadata": {},
   "source": [
    "## Concatenate DataFrames"
   ]
  },
  {
   "cell_type": "code",
   "execution_count": 40,
   "metadata": {},
   "outputs": [
    {
     "data": {
      "text/html": [
       "<div>\n",
       "<style scoped>\n",
       "    .dataframe tbody tr th:only-of-type {\n",
       "        vertical-align: middle;\n",
       "    }\n",
       "\n",
       "    .dataframe tbody tr th {\n",
       "        vertical-align: top;\n",
       "    }\n",
       "\n",
       "    .dataframe thead th {\n",
       "        text-align: right;\n",
       "    }\n",
       "</style>\n",
       "<table border=\"1\" class=\"dataframe\">\n",
       "  <thead>\n",
       "    <tr style=\"text-align: right;\">\n",
       "      <th></th>\n",
       "      <th>A</th>\n",
       "      <th>B</th>\n",
       "      <th>C</th>\n",
       "      <th>A</th>\n",
       "      <th>B</th>\n",
       "      <th>C</th>\n",
       "    </tr>\n",
       "  </thead>\n",
       "  <tbody>\n",
       "    <tr>\n",
       "      <th>0</th>\n",
       "      <td>A0</td>\n",
       "      <td>B0</td>\n",
       "      <td>C0</td>\n",
       "      <td>A4</td>\n",
       "      <td>B4</td>\n",
       "      <td>C4</td>\n",
       "    </tr>\n",
       "    <tr>\n",
       "      <th>1</th>\n",
       "      <td>A1</td>\n",
       "      <td>B1</td>\n",
       "      <td>C1</td>\n",
       "      <td>A5</td>\n",
       "      <td>B5</td>\n",
       "      <td>C5</td>\n",
       "    </tr>\n",
       "    <tr>\n",
       "      <th>2</th>\n",
       "      <td>A2</td>\n",
       "      <td>B2</td>\n",
       "      <td>C2</td>\n",
       "      <td>A6</td>\n",
       "      <td>B6</td>\n",
       "      <td>C6</td>\n",
       "    </tr>\n",
       "    <tr>\n",
       "      <th>3</th>\n",
       "      <td>A3</td>\n",
       "      <td>B3</td>\n",
       "      <td>C3</td>\n",
       "      <td>A7</td>\n",
       "      <td>B7</td>\n",
       "      <td>C7</td>\n",
       "    </tr>\n",
       "  </tbody>\n",
       "</table>\n",
       "</div>"
      ],
      "text/plain": [
       "    A   B   C   A   B   C\n",
       "0  A0  B0  C0  A4  B4  C4\n",
       "1  A1  B1  C1  A5  B5  C5\n",
       "2  A2  B2  C2  A6  B6  C6\n",
       "3  A3  B3  C3  A7  B7  C7"
      ]
     },
     "execution_count": 40,
     "metadata": {},
     "output_type": "execute_result"
    }
   ],
   "source": [
    "df1 = pd.DataFrame({'A': ['A0', 'A1', 'A2', 'A3'],\n",
    "                    'B': ['B0', 'B1', 'B2', 'B3'],\n",
    "                    'C': ['C0', 'C1', 'C2', 'C3'],\n",
    "}, index=[0, 1, 2, 3])\n",
    "\n",
    "df2 = pd.DataFrame({'A': ['A4', 'A5', 'A6', 'A7'],\n",
    "                    'B': ['B4', 'B5', 'B6', 'B7'],\n",
    "                    'C': ['C4', 'C5', 'C6', 'C7'],\n",
    "}, index=[0, 1, 2, 3])\n",
    "pd.concat([df1, df2], axis=0)  # Vertical\n",
    "pd.concat([df1, df2], axis=1)  # Horizontal\n",
    "\n"
   ]
  },
  {
   "cell_type": "markdown",
   "metadata": {},
   "source": [
    "## Merge "
   ]
  },
  {
   "cell_type": "code",
   "execution_count": 41,
   "metadata": {},
   "outputs": [
    {
     "name": "stdout",
     "output_type": "stream",
     "text": [
      "  key  value1\n",
      "0   A       1\n",
      "1   B       2\n",
      "2   C       3\n",
      "  key  value1  value2\n",
      "0   B       2       4\n",
      "1   C       3       5\n"
     ]
    }
   ],
   "source": [
    "df1 = pd.DataFrame({  \n",
    "    'key': ['A', 'B', 'C'],  \n",
    "    'value1': [1, 2, 3]  \n",
    "})  \n",
    "\n",
    "print(df1)\n",
    "\n",
    "df2 = pd.DataFrame({  \n",
    "    'key': ['B', 'C', 'D'],  \n",
    "    'value2': [4, 5, 6]  \n",
    "})  \n",
    "\n",
    "# Merging DataFrames using an inner join  \n",
    "merged_df = pd.merge(df1, df2, on='key')  \n",
    "print(merged_df)\n"
   ]
  },
  {
   "cell_type": "markdown",
   "metadata": {},
   "source": [
    "## Join\n",
    "\n",
    "> You can choose merge() for more complex operations involving column keys and join() for simpler index-based operations. "
   ]
  },
  {
   "cell_type": "code",
   "execution_count": 42,
   "metadata": {},
   "outputs": [
    {
     "name": "stdout",
     "output_type": "stream",
     "text": [
      "   value1\n",
      "A       1\n",
      "B       2\n",
      "C       3\n",
      "   value1  value2\n",
      "B       2       4\n",
      "C       3       5\n"
     ]
    }
   ],
   "source": [
    "# Creating DataFrames with a common index  \n",
    "df1 = pd.DataFrame({  \n",
    "    'value1': [1, 2, 3]  \n",
    "}, index=['A', 'B', 'C'])  \n",
    "print(df1)\n",
    "df2 = pd.DataFrame({  \n",
    "    'value2': [4, 5, 6]  \n",
    "}, index=['B', 'C', 'D'])  \n",
    "\n",
    "# Joining DataFrames  \n",
    "joined_df = df1.join(df2, how='inner')  \n",
    "print(joined_df)"
   ]
  },
  {
   "cell_type": "markdown",
   "metadata": {},
   "source": [
    "## Reading/Writing Files"
   ]
  },
  {
   "cell_type": "code",
   "execution_count": 43,
   "metadata": {},
   "outputs": [
    {
     "name": "stdout",
     "output_type": "stream",
     "text": [
      "Category      A    B\n",
      "Date                \n",
      "2024-01-01  100  200\n",
      "2024-01-02  150  250\n"
     ]
    }
   ],
   "source": [
    "data = {  \n",
    "    'Date': ['2024-01-01', '2024-01-01', '2024-01-02', '2024-01-02'],  \n",
    "    'Category': ['A', 'B', 'A', 'B'],  \n",
    "    'Sales': [100, 200, 150, 250]  \n",
    "}  \n",
    "\n",
    "df = pd.DataFrame(data)  \n",
    "\n",
    "# Creating a pivot table  \n",
    "pivot_table = pd.pivot_table(df, values='Sales', index='Date', columns='Category', aggfunc='sum', fill_value=0)  \n",
    "\n",
    "print(pivot_table)  \n",
    "\n"
   ]
  },
  {
   "cell_type": "code",
   "execution_count": 44,
   "metadata": {},
   "outputs": [
    {
     "name": "stdout",
     "output_type": "stream",
     "text": [
      "Original DataFrame:\n",
      "   A         B     C      D\n",
      "0  1     apple  10.5   True\n",
      "1  2    banana  20.5  False\n",
      "2  2    banana  20.5  False\n",
      "3  3    cherry  30.0   True\n",
      "4  3    cherry  30.0   True\n",
      "5  4      date  40.0  False\n",
      "6  5       fig  50.1   True\n",
      "7  1     apple  10.5   True\n",
      "8  6     grape  60.3  False\n",
      "9  7  honeydew  70.2   True\n"
     ]
    },
    {
     "data": {
      "text/plain": [
       "A    7\n",
       "B    7\n",
       "C    7\n",
       "D    2\n",
       "dtype: int64"
      ]
     },
     "execution_count": 44,
     "metadata": {},
     "output_type": "execute_result"
    }
   ],
   "source": [
    "data = {  \n",
    "    'A': [1, 2, 2, 3, 3, 4, 5, 1, 6, 7],  \n",
    "    'B': ['apple', 'banana', 'banana', 'cherry', 'cherry', 'date', 'fig', 'apple', 'grape', 'honeydew'],  \n",
    "    'C': [10.5, 20.5, 20.5, 30.0, 30.0, 40.0, 50.1, 10.5, 60.3, 70.2],  \n",
    "    'D': [True, False, False, True, True, False, True, True, False, True]  \n",
    "}  \n",
    "\n",
    "df = pd.DataFrame(data)  \n",
    "\n",
    "# Display the DataFrame  \n",
    "print(\"Original DataFrame:\")  \n",
    "print(df)\n",
    "\n",
    "df.duplicated()    # Check for duplicate rows\n",
    "df.drop_duplicates()  # Remove duplicates\n",
    "df.sample(5)       # Random sample of rows\n",
    "df.nunique()       # Count unique values per column\n",
    "\n",
    "# print(df)\n"
   ]
  },
  {
   "cell_type": "code",
   "execution_count": 45,
   "metadata": {},
   "outputs": [
    {
     "name": "stdout",
     "output_type": "stream",
     "text": [
      "Original DataFrame:\n",
      "   A  B  C   D\n",
      "0  1  5  2  10\n",
      "1  2  4  3  22\n",
      "2  3  3  4  30\n",
      "3  4  2  5  23\n",
      "4  5  1  6  39\n",
      "\n",
      "Correlation Matrix:\n",
      "          A         B         C         D\n",
      "A  1.000000 -1.000000  1.000000  0.871044\n",
      "B -1.000000  1.000000 -1.000000 -0.871044\n",
      "C  1.000000 -1.000000  1.000000  0.871044\n",
      "D  0.871044 -0.871044  0.871044  1.000000\n"
     ]
    }
   ],
   "source": [
    "# Creating a sample DataFrame  \n",
    "data = {  \n",
    "    'A': [1, 2, 3, 4, 5],  \n",
    "    'B': [5, 4, 3, 2, 1],  \n",
    "    'C': [2, 3, 4, 5, 6],  \n",
    "    'D': [10, 22, 30, 23, 39]  \n",
    "}  \n",
    "\n",
    "df = pd.DataFrame(data)  \n",
    "\n",
    "print(\"Original DataFrame:\")  \n",
    "print(df)  \n",
    "# Calculate the correlation matrix  \n",
    "correlation_matrix = df.corr()  \n",
    "print(\"\\nCorrelation Matrix:\")  \n",
    "print(correlation_matrix)"
   ]
  },
  {
   "cell_type": "markdown",
   "metadata": {},
   "source": [
    "## MultiIndex DataFrames"
   ]
  },
  {
   "cell_type": "code",
   "execution_count": 46,
   "metadata": {},
   "outputs": [
    {
     "data": {
      "text/html": [
       "<div>\n",
       "<style scoped>\n",
       "    .dataframe tbody tr th:only-of-type {\n",
       "        vertical-align: middle;\n",
       "    }\n",
       "\n",
       "    .dataframe tbody tr th {\n",
       "        vertical-align: top;\n",
       "    }\n",
       "\n",
       "    .dataframe thead th {\n",
       "        text-align: right;\n",
       "    }\n",
       "</style>\n",
       "<table border=\"1\" class=\"dataframe\">\n",
       "  <thead>\n",
       "    <tr style=\"text-align: right;\">\n",
       "      <th></th>\n",
       "      <th>level_0</th>\n",
       "      <th>level_1</th>\n",
       "      <th>C1</th>\n",
       "      <th>C2</th>\n",
       "    </tr>\n",
       "  </thead>\n",
       "  <tbody>\n",
       "    <tr>\n",
       "      <th>0</th>\n",
       "      <td>A</td>\n",
       "      <td>one</td>\n",
       "      <td>-1.871588</td>\n",
       "      <td>1.664905</td>\n",
       "    </tr>\n",
       "    <tr>\n",
       "      <th>1</th>\n",
       "      <td>A</td>\n",
       "      <td>two</td>\n",
       "      <td>-0.292657</td>\n",
       "      <td>0.311150</td>\n",
       "    </tr>\n",
       "    <tr>\n",
       "      <th>2</th>\n",
       "      <td>B</td>\n",
       "      <td>one</td>\n",
       "      <td>-0.817709</td>\n",
       "      <td>1.093992</td>\n",
       "    </tr>\n",
       "    <tr>\n",
       "      <th>3</th>\n",
       "      <td>B</td>\n",
       "      <td>two</td>\n",
       "      <td>0.002315</td>\n",
       "      <td>-0.814699</td>\n",
       "    </tr>\n",
       "  </tbody>\n",
       "</table>\n",
       "</div>"
      ],
      "text/plain": [
       "  level_0 level_1        C1        C2\n",
       "0       A     one -1.871588  1.664905\n",
       "1       A     two -0.292657  0.311150\n",
       "2       B     one -0.817709  1.093992\n",
       "3       B     two  0.002315 -0.814699"
      ]
     },
     "execution_count": 46,
     "metadata": {},
     "output_type": "execute_result"
    }
   ],
   "source": [
    "# Create MultiIndex DataFrame\n",
    "arrays = [['A', 'A', 'B', 'B'], ['one', 'two', 'one', 'two']]\n",
    "index = pd.MultiIndex.from_tuples(list(zip(*arrays)))\n",
    "df = pd.DataFrame(np.random.randn(4, 2), index=index, columns=['C1', 'C2'])\n",
    "df\n",
    "# Access MultiIndex data\n",
    "df.loc['A']           # Get all rows with outer index 'A'\n",
    "df.loc[('A', 'one')]  # Specific row\n",
    "df.reset_index()      # Flatten the MultiIndex\n"
   ]
  },
  {
   "cell_type": "markdown",
   "metadata": {},
   "source": [
    "## Stack/Unstack"
   ]
  },
  {
   "cell_type": "code",
   "execution_count": 47,
   "metadata": {},
   "outputs": [
    {
     "name": "stdout",
     "output_type": "stream",
     "text": [
      "Original DataFrame:\n",
      "                 A  B\n",
      "letters numbers      \n",
      "x       1        1  4\n",
      "        2        2  5\n",
      "y       1        3  6\n",
      "\n",
      "Unstacked DataFrame (Wide format):\n",
      "           A         B     \n",
      "numbers    1    2    1    2\n",
      "letters                    \n",
      "x        1.0  2.0  4.0  5.0\n",
      "y        3.0  NaN  6.0  NaN\n",
      "\n",
      "Stacked DataFrame (Back to Long format):\n",
      "                   A    B\n",
      "letters numbers          \n",
      "x       1        1.0  4.0\n",
      "        2        2.0  5.0\n",
      "y       1        3.0  6.0\n"
     ]
    },
    {
     "name": "stderr",
     "output_type": "stream",
     "text": [
      "C:\\Users\\User\\AppData\\Local\\Temp\\ipykernel_13432\\308130640.py:19: FutureWarning: The previous implementation of stack is deprecated and will be removed in a future version of pandas. See the What's New notes for pandas 2.1.0 for details. Specify future_stack=True to adopt the new implementation and silence this warning.\n",
      "  df_stacked = df_unstacked.stack()\n"
     ]
    }
   ],
   "source": [
    "\n",
    "# Sample data  \n",
    "data = {  \n",
    "    'A': [1, 2, 3],  \n",
    "    'B': [4, 5, 6]  \n",
    "}  \n",
    "index = pd.MultiIndex.from_tuples([('x', 1), ('x', 2), ('y', 1)], names=['letters', 'numbers'])  \n",
    "df = pd.DataFrame(data, index=index)  \n",
    "\n",
    "# df before unstacking  \n",
    "print(\"Original DataFrame:\")  \n",
    "print(df)  \n",
    "\n",
    "# Convert to wide format  \n",
    "df_unstacked = df.unstack()  \n",
    "print(\"\\nUnstacked DataFrame (Wide format):\")  \n",
    "print(df_unstacked)  \n",
    "\n",
    "# Convert back to long format  \n",
    "df_stacked = df_unstacked.stack()  \n",
    "print(\"\\nStacked DataFrame (Back to Long format):\")  \n",
    "print(df_stacked)  "
   ]
  },
  {
   "cell_type": "code",
   "execution_count": 48,
   "metadata": {},
   "outputs": [
    {
     "name": "stdout",
     "output_type": "stream",
     "text": [
      "     A\n",
      "0  foo\n",
      "1  bar\n",
      "2  foo\n",
      "3  bar\n",
      "4  foo\n",
      "     A Category\n",
      "0  foo      foo\n",
      "1  bar      bar\n",
      "2  foo      foo\n",
      "3  bar      bar\n",
      "4  foo      foo\n",
      "    A Category\n",
      "0   1      Low\n",
      "1   4      Low\n",
      "2   6   Medium\n",
      "3  10   Medium\n",
      "4  15     High\n",
      "5  22      NaN\n"
     ]
    }
   ],
   "source": [
    "\n",
    "data = {  \n",
    "    'A': ['foo', 'bar', 'foo', 'bar', 'foo']  \n",
    "}  \n",
    "\n",
    "df = pd.DataFrame(data)  \n",
    "print(df)\n",
    "\n",
    "# Convert column 'A' to category  \n",
    "df['Category'] = df['A'].astype('category')  \n",
    "\n",
    "print(df)\n",
    "\n",
    "numeric_data = {  \n",
    "    'A': [1, 4, 6, 10, 15, 22]  \n",
    "}  \n",
    "\n",
    "df = pd.DataFrame(numeric_data)\n",
    "df['Category'] = pd.cut(df['A'], bins=[0, 5, 10, 20], labels=['Low', 'Medium', 'High'])\n",
    "\n",
    "print(df)  "
   ]
  },
  {
   "cell_type": "code",
   "execution_count": 49,
   "metadata": {},
   "outputs": [
    {
     "name": "stdout",
     "output_type": "stream",
     "text": [
      "        Date  Value\n",
      "0 2024-01-01     10\n",
      "1 2024-01-02     20\n",
      "2 2024-01-03     30\n",
      "            Value\n",
      "Date             \n",
      "2024-01-01     10\n",
      "2024-01-02     20\n",
      "2024-01-03     30\n",
      "            Value\n",
      "Date             \n",
      "2024-01-31   20.0\n",
      "            Value\n",
      "Date             \n",
      "2024-01-07     60\n"
     ]
    }
   ],
   "source": [
    "\n",
    "data = {  \n",
    "    'Date': ['2024-01-01', '2024-01-02', '2024-01-03'],  \n",
    "    'Value': [10, 20, 30]  \n",
    "}  \n",
    "\n",
    "df = pd.DataFrame(data)  \n",
    "\n",
    "# Convert 'Date' to datetime  \n",
    "df['Date'] = pd.to_datetime(df['Date'])  \n",
    "print(df)  \n",
    "df.set_index('Date', inplace=True)  # Set datetime index\n",
    "print(df)\n",
    "monthly_avg = df.resample('ME').mean()  # Monthly average\n",
    "print(monthly_avg)\n",
    "weekly_sum = df.resample('W').sum()  # Weekly sum\n",
    "print(weekly_sum)"
   ]
  }
 ],
 "metadata": {
  "kernelspec": {
   "display_name": "Python 3",
   "language": "python",
   "name": "python3"
  },
  "language_info": {
   "codemirror_mode": {
    "name": "ipython",
    "version": 3
   },
   "file_extension": ".py",
   "mimetype": "text/x-python",
   "name": "python",
   "nbconvert_exporter": "python",
   "pygments_lexer": "ipython3",
   "version": "3.13.0"
  }
 },
 "nbformat": 4,
 "nbformat_minor": 2
}
