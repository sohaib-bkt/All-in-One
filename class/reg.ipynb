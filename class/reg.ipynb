{
 "cells": [
  {
   "cell_type": "markdown",
   "metadata": {},
   "source": [
    "![ibn.png](attachment:c5ab6a53-942a-4e0a-ad7a-f2ba61b2819c.png)"
   ]
  },
  {
   "cell_type": "markdown",
   "metadata": {},
   "source": [
    "<center><h1 style=\"font-family: algerian ; font-size: 80px; color: gray\">TP : Régression linéaire simple</h1></center>"
   ]
  },
  {
   "cell_type": "code",
   "execution_count": 1,
   "metadata": {},
   "outputs": [],
   "source": [
    "import numpy as np\n",
    "from sklearn.datasets import make_regression\n",
    "import matplotlib.pyplot as plt\n"
   ]
  },
  {
   "cell_type": "markdown",
   "metadata": {},
   "source": [
    "# 1- Dataset\n"
   ]
  },
  {
   "cell_type": "markdown",
   "metadata": {},
   "source": [
    "Génération de données aléatoires avec une tendance linéaire avec make_regression: on a un dataset \n",
    "(\n",
    "x\n",
    ",\n",
    "y\n",
    ")\n",
    " qui contient 100 exemples, et une seule variable \n",
    "x\n",
    ". Note: chaque fois que la cellule est executée, des données différentes sont générer. Utiliser np.random.seed(0) pour reproduire le meme Dataset a chaque fois."
   ]
  },
  {
   "cell_type": "code",
   "execution_count": 2,
   "metadata": {},
   "outputs": [
    {
     "data": {
      "text/plain": [
       "<matplotlib.collections.PathCollection at 0x1bf3a12b4d0>"
      ]
     },
     "execution_count": 2,
     "metadata": {},
     "output_type": "execute_result"
    },
    {
     "data": {
      "image/png": "[encoded data removed]",
      "text/plain": [
       "<Figure size 640x480 with 1 Axes>"
      ]
     },
     "metadata": {},
     "output_type": "display_data"
    }
   ],
   "source": [
    "# pour toujours reproduire le meme dataset\n",
    "np.random.seed(42) \n",
    "# question1 : Utilisez la fonction make_regression  pour générer un jeu de données simulées.\n",
    "x, y = make_regression(n_samples=100, n_features=1, noise=10)\n",
    "# question2 : Affichez maintenant le nuage de points en utilisant la fonction scatter() de la bibliothèque Matplotlib.\n",
    "plt.scatter(x, y)\n"
   ]
  },
  {
   "cell_type": "code",
   "execution_count": 3,
   "metadata": {},
   "outputs": [
    {
     "name": "stdout",
     "output_type": "stream",
     "text": [
      "(100, 1)\n",
      "(100,)\n"
     ]
    }
   ],
   "source": [
    "# Question3 : vérifier les dimensions de x et y\n",
    "print(x.shape)\n",
    "print(y.shape)"
   ]
  },
  {
   "cell_type": "code",
   "execution_count": 4,
   "metadata": {},
   "outputs": [],
   "source": [
    "# Question4 : redimensionner y\n",
    "y = y.reshape(y.shape[0], 1)\n"
   ]
  },
  {
   "cell_type": "code",
   "execution_count": 5,
   "metadata": {},
   "outputs": [],
   "source": [
    "# Question 5 : Création de la matrice X qui contient la colonne de Biais. \n",
    "# Pour ca, on colle l'un contre l'autre le vecteur x et un vecteur 1 (avec np.ones) de dimension égale a celle de x\n",
    "X = np.hstack((x, np.ones(x.shape)))\n"
   ]
  },
  {
   "cell_type": "code",
   "execution_count": 6,
   "metadata": {},
   "outputs": [
    {
     "data": {
      "text/plain": [
       "array([[ 0.93128012,  1.        ],\n",
       "       [ 0.08704707,  1.        ],\n",
       "       [-1.05771093,  1.        ],\n",
       "       [ 0.31424733,  1.        ],\n",
       "       [-0.47917424,  1.        ],\n",
       "       [ 0.64768854,  1.        ],\n",
       "       [-0.46341769,  1.        ],\n",
       "       [ 0.54256004,  1.        ],\n",
       "       [ 0.61167629,  1.        ],\n",
       "       [ 1.0035329 ,  1.        ],\n",
       "       [ 0.8219025 ,  1.        ],\n",
       "       [ 1.53803657,  1.        ],\n",
       "       [ 0.73846658,  1.        ],\n",
       "       [-0.21967189,  1.        ],\n",
       "       [-0.8084936 ,  1.        ],\n",
       "       [ 0.09176078,  1.        ],\n",
       "       [-1.95967012,  1.        ],\n",
       "       [ 0.51326743,  1.        ],\n",
       "       [ 1.03099952,  1.        ],\n",
       "       [-2.6197451 ,  1.        ],\n",
       "       [ 0.49671415,  1.        ],\n",
       "       [ 0.09707755,  1.        ],\n",
       "       [-0.46572975,  1.        ],\n",
       "       [ 0.91540212,  1.        ],\n",
       "       [ 1.56464366,  1.        ],\n",
       "       [ 1.46564877,  1.        ],\n",
       "       [-0.60063869,  1.        ],\n",
       "       [-0.03582604,  1.        ],\n",
       "       [-0.60170661,  1.        ],\n",
       "       [-1.19620662,  1.        ],\n",
       "       [ 0.35711257,  1.        ],\n",
       "       [ 0.37569802,  1.        ],\n",
       "       [ 0.26105527,  1.        ],\n",
       "       [-0.5297602 ,  1.        ],\n",
       "       [-0.90802408,  1.        ],\n",
       "       [ 0.19686124,  1.        ],\n",
       "       [-0.29900735,  1.        ],\n",
       "       [ 0.36163603,  1.        ],\n",
       "       [ 0.82254491,  1.        ],\n",
       "       [-0.29169375,  1.        ],\n",
       "       [ 0.36139561,  1.        ],\n",
       "       [-0.676922  ,  1.        ],\n",
       "       [ 1.52302986,  1.        ],\n",
       "       [-0.51827022,  1.        ],\n",
       "       [-0.23415337,  1.        ],\n",
       "       [-0.39210815,  1.        ],\n",
       "       [-0.3011037 ,  1.        ],\n",
       "       [-0.64511975,  1.        ],\n",
       "       [ 0.32875111,  1.        ],\n",
       "       [ 0.2088636 ,  1.        ],\n",
       "       [-0.32766215,  1.        ],\n",
       "       [ 0.00511346,  1.        ],\n",
       "       [-0.23413696,  1.        ],\n",
       "       [ 1.47789404,  1.        ],\n",
       "       [-0.38508228,  1.        ],\n",
       "       [ 0.34361829,  1.        ],\n",
       "       [ 0.33126343,  1.        ],\n",
       "       [-0.18565898,  1.        ],\n",
       "       [-0.23458713,  1.        ],\n",
       "       [-1.98756891,  1.        ],\n",
       "       [ 0.32408397,  1.        ],\n",
       "       [-0.2257763 ,  1.        ],\n",
       "       [-1.10633497,  1.        ],\n",
       "       [-0.70205309,  1.        ],\n",
       "       [-1.46351495,  1.        ],\n",
       "       [ 0.96864499,  1.        ],\n",
       "       [-1.72491783,  1.        ],\n",
       "       [-1.91328024,  1.        ],\n",
       "       [-0.56228753,  1.        ],\n",
       "       [ 0.76743473,  1.        ],\n",
       "       [ 0.81252582,  1.        ],\n",
       "       [-1.4123037 ,  1.        ],\n",
       "       [-1.47852199,  1.        ],\n",
       "       [-1.22084365,  1.        ],\n",
       "       [-0.83921752,  1.        ],\n",
       "       [ 1.57921282,  1.        ],\n",
       "       [ 0.97554513,  1.        ],\n",
       "       [ 0.24196227,  1.        ],\n",
       "       [ 0.29612028,  1.        ],\n",
       "       [-0.54438272,  1.        ],\n",
       "       [-1.76304016,  1.        ],\n",
       "       [ 0.11092259,  1.        ],\n",
       "       [ 0.17136828,  1.        ],\n",
       "       [-1.32818605,  1.        ],\n",
       "       [ 1.05712223,  1.        ],\n",
       "       [-0.11564828,  1.        ],\n",
       "       [-0.46947439,  1.        ],\n",
       "       [-0.01349722,  1.        ],\n",
       "       [-1.01283112,  1.        ],\n",
       "       [-0.1382643 ,  1.        ],\n",
       "       [-1.15099358,  1.        ],\n",
       "       [ 1.35624003,  1.        ],\n",
       "       [ 0.0675282 ,  1.        ],\n",
       "       [-0.50175704,  1.        ],\n",
       "       [-0.46063877,  1.        ],\n",
       "       [ 1.85227818,  1.        ],\n",
       "       [-1.42474819,  1.        ],\n",
       "       [-0.71984421,  1.        ],\n",
       "       [-0.07201012,  1.        ],\n",
       "       [-0.30921238,  1.        ]])"
      ]
     },
     "execution_count": 6,
     "metadata": {},
     "output_type": "execute_result"
    }
   ],
   "source": [
    "# Question 6 : affichez la matrice X\n",
    "X"
   ]
  },
  {
   "cell_type": "code",
   "execution_count": 7,
   "metadata": {},
   "outputs": [
    {
     "data": {
      "text/plain": [
       "array([[ 0.49671415],\n",
       "       [-0.1382643 ]])"
      ]
     },
     "execution_count": 7,
     "metadata": {},
     "output_type": "execute_result"
    }
   ],
   "source": [
    "# Question 7 : Finalement, création d'un vecteur parametre θ, initialisé avec des coefficients aléatoires.\n",
    "np.random.seed(42) # pour produire toujours le meme vecteur theta aléatoire\n",
    "theta = np.random.randn(2, 1)\n",
    "theta\n"
   ]
  },
  {
   "cell_type": "markdown",
   "metadata": {},
   "source": [
    "# 2- Modele Linéaire"
   ]
  },
  {
   "cell_type": "markdown",
   "metadata": {},
   "source": [
    "On implémente un modele F=X.θ, puis on teste le modele pour voir s'il n'y a pas de bug (bonne pratique oblige). En plus, cela permet de voir a quoi ressemble le modele initial, défini par la valeur de \n",
    "θ"
   ]
  },
  {
   "cell_type": "code",
   "execution_count": 8,
   "metadata": {},
   "outputs": [],
   "source": [
    "# Question 8 : crée une fonction model() pour definir F .  \n",
    "#The dot() method multiplies each value from one DataFrame with the values from another DataFrame (or Series or array), and adds them together\n",
    "def model(X, theta):\n",
    "    return X.dot(theta)\n"
   ]
  },
  {
   "cell_type": "code",
   "execution_count": 9,
   "metadata": {},
   "outputs": [
    {
     "data": {
      "text/plain": [
       "[<matplotlib.lines.Line2D at 0x1bf3a214cd0>]"
      ]
     },
     "execution_count": 9,
     "metadata": {},
     "output_type": "execute_result"
    },
    {
     "data": {
      "image/png": "[encoded data removed]",
      "text/plain": [
       "<Figure size 640x480 with 1 Axes>"
      ]
     },
     "metadata": {},
     "output_type": "display_data"
    }
   ],
   "source": [
    "# Question 9 : affichez le nuage de point et le model crée\n",
    "def model(X, theta):\n",
    "    return X.dot(theta)\n",
    "plt.scatter(x, y)\n",
    "plt.plot(x, model(X, theta), c='r')\n"
   ]
  },
  {
   "cell_type": "markdown",
   "metadata": {},
   "source": [
    "# 3- Fonction Cout : Erreur Quadratique moyenne"
   ]
  },
  {
   "cell_type": "markdown",
   "metadata": {},
   "source": [
    "![image.png](attachment:6d6fb6fd-82dc-407d-99fb-92c266ff80b5.png)"
   ]
  },
  {
   "cell_type": "code",
   "execution_count": 10,
   "metadata": {},
   "outputs": [],
   "source": [
    "# Question 10 : crée la fonction cout (erreur quadratique moyenne )\n",
    "def cost_function(X, y, theta):\n",
    "    m = len(y)\n",
    "    return 1/(2*m) * np.sum((X.dot(theta) - y)**2)\n"
   ]
  },
  {
   "cell_type": "code",
   "execution_count": 11,
   "metadata": {},
   "outputs": [
    {
     "data": {
      "text/plain": [
       "np.float64(832.5955843778751)"
      ]
     },
     "execution_count": 11,
     "metadata": {},
     "output_type": "execute_result"
    }
   ],
   "source": [
    "# Question 11 : appliquer la fonction cout sur les données génerer \n",
    "cost_function(X, y, theta)\n"
   ]
  },
  {
   "cell_type": "markdown",
   "metadata": {},
   "source": [
    "# 4- Gradients et Descente de Gradient"
   ]
  },
  {
   "cell_type": "markdown",
   "metadata": {},
   "source": [
    "![image.png](attachment:4c81add5-cc4b-4849-aa4d-4b01b6059a10.png)"
   ]
  },
  {
   "cell_type": "code",
   "execution_count": 12,
   "metadata": {},
   "outputs": [],
   "source": [
    "# Question 12 : définir la fonction le gradients \n",
    "def model(X, theta):  \n",
    "    return X.dot(theta)  \n",
    "\n",
    "def grad(X, y, theta):  \n",
    "    m = len(y)  \n",
    "    predictions = model(X, theta)  # Shape (m, 1) if theta is (n, 1)  \n",
    "    return (1/m) * (X.T.dot(predictions - y))  # Ensure correct subtraction\n"
   ]
  },
  {
   "cell_type": "code",
   "execution_count": 13,
   "metadata": {},
   "outputs": [],
   "source": [
    "\n",
    "\n",
    "# Question 13: define the gradient descent function  \n",
    "def gradient_descent(X, y, theta, learning_rate, n_iterations):  \n",
    "    cost_history = np.zeros(n_iterations)  # Initialization of cost history array  \n",
    "    \n",
    "    for i in range(n_iterations):  \n",
    "        theta = theta - learning_rate * grad(X, y, theta)  # Update the parameter theta  \n",
    "        cost_history[i] = cost_function(X, y, theta)  # Record the cost at iteration i  \n",
    "    \n",
    "    return theta, cost_history  "
   ]
  },
  {
   "cell_type": "markdown",
   "metadata": {},
   "source": [
    "# 5- Phase d'entrainement"
   ]
  },
  {
   "cell_type": "markdown",
   "metadata": {},
   "source": [
    "On définit un nombre d'itérations, ainsi qu'un pas d'apprentissage α, et c'est partit !Une fois le modele entrainé, on observe les resultats par rapport a notre Dataset"
   ]
  },
  {
   "cell_type": "code",
   "execution_count": 14,
   "metadata": {},
   "outputs": [],
   "source": [
    "# Question 14 : appliquez la methode de gradient descent \n",
    "n_iterations = 1000\n",
    "learning_rate = 0.01\n",
    "theta_final, cost_history = gradient_descent(X, y, theta, learning_rate, n_iterations)\n"
   ]
  },
  {
   "cell_type": "code",
   "execution_count": 15,
   "metadata": {},
   "outputs": [
    {
     "data": {
      "text/plain": [
       "array([[44.42225556],\n",
       "       [ 1.15862938]])"
      ]
     },
     "execution_count": 15,
     "metadata": {},
     "output_type": "execute_result"
    }
   ],
   "source": [
    "# Question 15 : affichez la valeur theta apres la phase d'entrainement \n",
    "theta_final # voici les parametres du modele une fois que la machine a été entrainée\n"
   ]
  },
  {
   "cell_type": "code",
   "execution_count": 16,
   "metadata": {},
   "outputs": [
    {
     "data": {
      "text/plain": [
       "[<matplotlib.lines.Line2D at 0x1bf3c3c60d0>]"
      ]
     },
     "execution_count": 16,
     "metadata": {},
     "output_type": "execute_result"
    },
    {
     "data": {
      "image/png": "[encoded data removed]",
      "text/plain": [
       "<Figure size 640x480 with 1 Axes>"
      ]
     },
     "metadata": {},
     "output_type": "display_data"
    }
   ],
   "source": [
    "\n",
    "# question 16 : création d'un vecteur prédictions qui contient les prédictions de notre modele final\n",
    "predictions = model(X, theta_final)\n",
    "\n",
    "# question 17 : Affiche les résultats de prédictions (en rouge) par rapport a notre Dataset (en bleu)\n",
    "plt.scatter(x, y)\n",
    "plt.plot(x, predictions, c='r')\n"
   ]
  },
  {
   "cell_type": "markdown",
   "metadata": {},
   "source": [
    "# 6- Courbes d'apprentissage"
   ]
  },
  {
   "cell_type": "markdown",
   "metadata": {},
   "source": [
    "Pour vérifier si notre algorithme de Descente de gradient a bien fonctionné, on observe l'évolution de la fonction cout a travers les itérations. On est sensé obtenir une courbe qui diminue a chaque itération jusqu'a stagner a un niveau minimal (proche de zéro). Si la courbe ne suit pas ce motif, alors le pas learning_rate est peut-etre trop élevé, il faut prendre un pas plus faible."
   ]
  },
  {
   "cell_type": "code",
   "execution_count": 17,
   "metadata": {},
   "outputs": [
    {
     "data": {
      "text/plain": [
       "[<matplotlib.lines.Line2D at 0x1bf3c42a850>]"
      ]
     },
     "execution_count": 17,
     "metadata": {},
     "output_type": "execute_result"
    },
    {
     "data": {
      "image/png": "[encoded data removed]",
      "text/plain": [
       "<Figure size 640x480 with 1 Axes>"
      ]
     },
     "metadata": {},
     "output_type": "display_data"
    }
   ],
   "source": [
    "# Question 18 : affichez la courbe d'apprentissage\n",
    "plt.plot(range(n_iterations), cost_history)\n"
   ]
  },
  {
   "cell_type": "markdown",
   "metadata": {},
   "source": [
    "# 7- Evaluation finale"
   ]
  },
  {
   "cell_type": "markdown",
   "metadata": {},
   "source": [
    "Pour évaluer la réelle performance de notre modele avec une métrique populaire, on peut utiliser le coefficient de détermination, aussi connu sous le nom R2. Il nous vient de la méthode des moindres carrés. Plus le résultat est proche de 1, meilleur est votre modele"
   ]
  },
  {
   "cell_type": "markdown",
   "metadata": {},
   "source": [
    "![image.png](attachment:ead9aac0-5da6-45fb-85d8-057af312752f.png)"
   ]
  },
  {
   "cell_type": "code",
   "execution_count": 1,
   "metadata": {},
   "outputs": [],
   "source": [
    "# Question 19 : définir la fonction pour calculer le coefficient de détermination  \n",
    "def coef_determination(y, pred):\n",
    "    u = ((y-pred)**2).sum()\n",
    "    v = ((y - y.mean())**2).sum()\n",
    "    return 1 - u / v"
   ]
  },
  {
   "cell_type": "code",
   "execution_count": 19,
   "metadata": {},
   "outputs": [
    {
     "data": {
      "text/plain": [
       "np.float64(0.9538251240979674)"
      ]
     },
     "execution_count": 19,
     "metadata": {},
     "output_type": "execute_result"
    }
   ],
   "source": [
    "# question 20 : affichez la valeur du cofficient de détermination \n",
    "coef_determination(y, predictions) "
   ]
  }
 ],
 "metadata": {
  "kernelspec": {
   "display_name": "Python 3",
   "language": "python",
   "name": "python3"
  },
  "language_info": {
   "codemirror_mode": {
    "name": "ipython",
    "version": 3
   },
   "file_extension": ".py",
   "mimetype": "text/x-python",
   "name": "python",
   "nbconvert_exporter": "python",
   "pygments_lexer": "ipython3",
   "version": "3.13.0"
  }
 },
 "nbformat": 4,
 "nbformat_minor": 2
}
