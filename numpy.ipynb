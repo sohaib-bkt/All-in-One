{
 "cells": [
  {
   "cell_type": "code",
   "execution_count": 5,
   "metadata": {},
   "outputs": [],
   "source": [
    "import numpy as np\n"
   ]
  },
  {
   "cell_type": "code",
   "execution_count": null,
   "metadata": {},
   "outputs": [
    {
     "name": "stdout",
     "output_type": "stream",
     "text": [
      "[[1 5 3]\n",
      " [4 5 6]\n",
      " [7 8 9]]\n",
      "Reshaped array:\n",
      " [[ 1  2  3]\n",
      " [99  5  6]]\n",
      "Flattened array:\n",
      " [ 1  2  3 99  5  6]\n",
      "Subarray:\n",
      " [[99  5]]\n"
     ]
    }
   ],
   "source": [
    "np.array([1, 2, 3])\n",
    "np.zeros((2, 3))  # 2x3 array of zeros\n",
    "np.ones((3, 3))   # 3x3 array of ones\n",
    "np.full((2, 2), 7)  # 2x2 array of sevens\n",
    "np.eye(3)  # 3x3 identity matrix\n",
    "np.diag([1, 2, 3])  # Diagonal matrix\n",
    "\n",
    "np.arange(0, 10, 2)  # [0, 2, 4, 6, 8]\n",
    "np.linspace(0, 1, 5)  # [0. , 0.25, 0.5 , 0.75, 1.]\n",
    "\n",
    "np.random.rand(3, 2)  # Uniform [0, 1], shape 3x2\n",
    "np.random.randn(3, 2) # Normal distribution\n",
    "np.random.randint(0, 10, (3, 3))  # Random integers\n",
    "np.random.normal(0, 1, (2, 2))  # Mean 0, Std 1\n",
    "\n",
    "array = np.array([[1, 5, 3], [4, 5, 6], [7, 8, 9]])\n",
    "\n",
    "array.shape      # Shape of the array\n",
    "array.ndim       # Number of dimensions\n",
    "array.size       # Total number of elements\n",
    "array.dtype      # Data type of elements\n",
    "array.T\n",
    "print(np.empty([3, 3], dtype=int))\n",
    "\n",
    "np.arange(1,10)\n",
    "np.linspace(1, 10, 3)\n",
    "\n",
    "arr = np.array([1, 2, 3, 99, 5, 6])  \n",
    "\n",
    "reshaped = arr.reshape(2, 3)  # Reshape to 2x3  \n",
    "flattened = arr.ravel()       # Flatten the array  \n",
    "\n",
    "# Slicing  \n",
    "subarray = reshaped[1:2, 0:2]  # Get the second row and first two columns  \n",
    "\n",
    "print(\"Reshaped array:\\n\", reshaped)  \n",
    "print(\"Flattened array:\\n\", flattened)  \n",
    "print(\"Subarray:\\n\", subarray)  \n",
    "\n"
   ]
  },
  {
   "cell_type": "code",
   "execution_count": null,
   "metadata": {},
   "outputs": [
    {
     "name": "stdout",
     "output_type": "stream",
     "text": [
      "6\n"
     ]
    }
   ],
   "source": [
    "arr = np.array([1,2,3])\n",
    "# Element-wise operations\n",
    "result = arr + 1\n",
    "result = arr * 2\n",
    "result = np.sin(arr)\n",
    "\n",
    "# Reduction operations\n",
    "total = np.sum(arr)\n",
    "mean = np.mean(arr)\n",
    "std = np.std(arr)\n",
    "max_val = np.max(arr)\n",
    "argmax = np.argmax(arr)  # Index of max value\n"
   ]
  },
  {
   "cell_type": "code",
   "execution_count": 83,
   "metadata": {},
   "outputs": [],
   "source": [
    "arr = np.array([1,2,3])\n",
    "mask = arr > 5             # Boolean array\n",
    "filtered = arr[arr > 5]    # Filter elements\n",
    "\n",
    "all_true = np.all(mask)    # Check if all True\n",
    "any_true = np.any(mask)    # Check if any True"
   ]
  },
  {
   "cell_type": "code",
   "execution_count": null,
   "metadata": {},
   "outputs": [],
   "source": [
    "arr1 = np.array([1,2,3])\n",
    "arr2= np.array([3,4,5])\n",
    "dot_product = np.dot(arr1, arr2)  # Dot product\n",
    "det = np.linalg.det(arr)          # Determinant\n",
    "eigvals, eigvecs = np.linalg.eig(arr)  # Eigenvalues/vectors\n",
    "inv = np.linalg.inv(arr)          # Inverse\n"
   ]
  },
  {
   "cell_type": "code",
   "execution_count": null,
   "metadata": {},
   "outputs": [
    {
     "name": "stdout",
     "output_type": "stream",
     "text": [
      "Original Array\n",
      "[[ 1  2  3  4  5  6]\n",
      " [ 7  8  9 10 11 12]] \n",
      "\n",
      "[[ 5  6  7  8  9 10]]\n",
      "Array after appending the values column wise\n",
      "[[ 1  2  3  4  5  6]\n",
      " [ 7  8  9 10 11 12]\n",
      " [ 5  6  7  8  9 10]] \n",
      "\n",
      "Array after appending the values row wise\n",
      "[[ 1  2  3  4  5  6  1]\n",
      " [ 7  8  9 10 11 12  2]]\n"
     ]
    }
   ],
   "source": [
    "# Adding the values at the end \n",
    "# of a numpy array \n",
    "arr = np.arange(1, 13).reshape(2, 6) \n",
    "print(\"Original Array\") \n",
    "print(arr, \"\\n\") \n",
    "\n",
    "# create another array which is \n",
    "# to be appended column-wise \n",
    "col = np.arange(5, 11).reshape(1,6)\n",
    "arr_col = np.append(arr, col, axis=0) \n",
    "print(\"Array after appending the values column wise\") \n",
    "print(arr_col, \"\\n\") \n",
    "\n",
    "# create an array which is \n",
    "# to be appended row wise \n",
    "row = np.array([1, 2]).reshape(2, 1) \n",
    "arr_row = np.append(arr, row, axis=1) \n",
    "print(\"Array after appending the values row wise\") \n",
    "print(arr_row)\n"
   ]
  },
  {
   "cell_type": "code",
   "execution_count": 13,
   "metadata": {},
   "outputs": [
    {
     "name": "stdout",
     "output_type": "stream",
     "text": [
      "[[2 4]\n",
      " [6 8]\n",
      " [3 5]\n",
      " [7 9]]\n",
      "\n",
      " [[2 4 3 5]\n",
      " [6 8 7 9]]\n",
      "\n",
      " [2 4 6 8 3 5 7 9]\n",
      "[[[2 4]\n",
      "  [3 5]]\n",
      "\n",
      " [[6 8]\n",
      "  [7 9]]]\n"
     ]
    }
   ],
   "source": [
    "arr1 = np.array([[2, 4], [6, 8]]) \n",
    "arr2 = np.array([[3, 5], [7, 9]]) \n",
    "\n",
    "# combining on axis 0 \n",
    "gfg = np.concatenate((arr1, arr2), axis = 0) \n",
    "print(gfg) \n",
    "\n",
    "# combining on axis 1 \n",
    "gfg = np.concatenate((arr1, arr2), axis = 1) \n",
    "print(\"\\n\", gfg) \n",
    "\n",
    "# combining on axis None \n",
    "gfg = np.concatenate((arr1, arr2), axis = None) \n",
    "print(\"\\n\", gfg) \n",
    "\n",
    "# stacking two arrays on one another \n",
    "print(np.stack((arr1, arr2), axis=1))\n"
   ]
  },
  {
   "cell_type": "code",
   "execution_count": 27,
   "metadata": {},
   "outputs": [
    {
     "data": {
      "text/plain": [
       "array([[5.1, 3.5, 1.4, 0.2, nan],\n",
       "       [4.9, 3. , 1.4, 0.2, nan],\n",
       "       [4.7, 3.2, 1.3, 0.2, nan],\n",
       "       [4.6, 3.1, 1.5, 0.2, nan],\n",
       "       [5. , 3.6, 1.4, 0.2, nan],\n",
       "       [5.4, 3.9, 1.7, 0.4, nan],\n",
       "       [4.6, 3.4, 1.4, 0.3, nan],\n",
       "       [5. , 3.4, 1.5, 0.2, nan],\n",
       "       [4.4, 2.9, 1.4, 0.2, nan],\n",
       "       [4.9, 3.1, 1.5, 0.1, nan],\n",
       "       [5.4, 3.7, 1.5, 0.2, nan],\n",
       "       [4.8, 3.4, 1.6, 0.2, nan],\n",
       "       [4.8, 3. , 1.4, 0.1, nan],\n",
       "       [4.3, 3. , 1.1, 0.1, nan],\n",
       "       [5.8, 4. , 1.2, 0.2, nan],\n",
       "       [5.7, 4.4, 1.5, 0.4, nan],\n",
       "       [5.4, 3.9, 1.3, 0.4, nan],\n",
       "       [5.1, 3.5, 1.4, 0.3, nan],\n",
       "       [5.7, 3.8, 1.7, 0.3, nan],\n",
       "       [5.1, 3.8, 1.5, 0.3, nan],\n",
       "       [5.4, 3.4, 1.7, 0.2, nan],\n",
       "       [5.1, 3.7, 1.5, 0.4, nan],\n",
       "       [4.6, 3.6, 1. , 0.2, nan],\n",
       "       [5.1, 3.3, 1.7, 0.5, nan],\n",
       "       [4.8, 3.4, 1.9, 0.2, nan],\n",
       "       [5. , 3. , 1.6, 0.2, nan],\n",
       "       [5. , 3.4, 1.6, 0.4, nan],\n",
       "       [5.2, 3.5, 1.5, 0.2, nan],\n",
       "       [5.2, 3.4, 1.4, 0.2, nan],\n",
       "       [4.7, 3.2, 1.6, 0.2, nan],\n",
       "       [4.8, 3.1, 1.6, 0.2, nan],\n",
       "       [5.4, 3.4, 1.5, 0.4, nan],\n",
       "       [5.2, 4.1, 1.5, 0.1, nan],\n",
       "       [5.5, 4.2, 1.4, 0.2, nan],\n",
       "       [4.9, 3.1, 1.5, 0.1, nan],\n",
       "       [5. , 3.2, 1.2, 0.2, nan],\n",
       "       [5.5, 3.5, 1.3, 0.2, nan],\n",
       "       [4.9, 3.1, 1.5, 0.1, nan],\n",
       "       [4.4, 3. , 1.3, 0.2, nan],\n",
       "       [5.1, 3.4, 1.5, 0.2, nan],\n",
       "       [5. , 3.5, 1.3, 0.3, nan],\n",
       "       [4.5, 2.3, 1.3, 0.3, nan],\n",
       "       [4.4, 3.2, 1.3, 0.2, nan],\n",
       "       [5. , 3.5, 1.6, 0.6, nan],\n",
       "       [5.1, 3.8, 1.9, 0.4, nan],\n",
       "       [4.8, 3. , 1.4, 0.3, nan],\n",
       "       [5.1, 3.8, 1.6, 0.2, nan],\n",
       "       [4.6, 3.2, 1.4, 0.2, nan],\n",
       "       [5.3, 3.7, 1.5, 0.2, nan],\n",
       "       [5. , 3.3, 1.4, 0.2, nan],\n",
       "       [7. , 3.2, 4.7, 1.4, nan],\n",
       "       [6.4, 3.2, 4.5, 1.5, nan],\n",
       "       [6.9, 3.1, 4.9, 1.5, nan],\n",
       "       [5.5, 2.3, 4. , 1.3, nan],\n",
       "       [6.5, 2.8, 4.6, 1.5, nan],\n",
       "       [5.7, 2.8, 4.5, 1.3, nan],\n",
       "       [6.3, 3.3, 4.7, 1.6, nan],\n",
       "       [4.9, 2.4, 3.3, 1. , nan],\n",
       "       [6.6, 2.9, 4.6, 1.3, nan],\n",
       "       [5.2, 2.7, 3.9, 1.4, nan],\n",
       "       [5. , 2. , 3.5, 1. , nan],\n",
       "       [5.9, 3. , 4.2, 1.5, nan],\n",
       "       [6. , 2.2, 4. , 1. , nan],\n",
       "       [6.1, 2.9, 4.7, 1.4, nan],\n",
       "       [5.6, 2.9, 3.6, 1.3, nan],\n",
       "       [6.7, 3.1, 4.4, 1.4, nan],\n",
       "       [5.6, 3. , 4.5, 1.5, nan],\n",
       "       [5.8, 2.7, 4.1, 1. , nan],\n",
       "       [6.2, 2.2, 4.5, 1.5, nan],\n",
       "       [5.6, 2.5, 3.9, 1.1, nan],\n",
       "       [5.9, 3.2, 4.8, 1.8, nan],\n",
       "       [6.1, 2.8, 4. , 1.3, nan],\n",
       "       [6.3, 2.5, 4.9, 1.5, nan],\n",
       "       [6.1, 2.8, 4.7, 1.2, nan],\n",
       "       [6.4, 2.9, 4.3, 1.3, nan],\n",
       "       [6.6, 3. , 4.4, 1.4, nan],\n",
       "       [6.8, 2.8, 4.8, 1.4, nan],\n",
       "       [6.7, 3. , 5. , 1.7, nan],\n",
       "       [6. , 2.9, 4.5, 1.5, nan],\n",
       "       [5.7, 2.6, 3.5, 1. , nan],\n",
       "       [5.5, 2.4, 3.8, 1.1, nan],\n",
       "       [5.5, 2.4, 3.7, 1. , nan],\n",
       "       [5.8, 2.7, 3.9, 1.2, nan],\n",
       "       [6. , 2.7, 5.1, 1.6, nan],\n",
       "       [5.4, 3. , 4.5, 1.5, nan],\n",
       "       [6. , 3.4, 4.5, 1.6, nan],\n",
       "       [6.7, 3.1, 4.7, 1.5, nan],\n",
       "       [6.3, 2.3, 4.4, 1.3, nan],\n",
       "       [5.6, 3. , 4.1, 1.3, nan],\n",
       "       [5.5, 2.5, 4. , 1.3, nan],\n",
       "       [5.5, 2.6, 4.4, 1.2, nan],\n",
       "       [6.1, 3. , 4.6, 1.4, nan],\n",
       "       [5.8, 2.6, 4. , 1.2, nan],\n",
       "       [5. , 2.3, 3.3, 1. , nan],\n",
       "       [5.6, 2.7, 4.2, 1.3, nan],\n",
       "       [5.7, 3. , 4.2, 1.2, nan],\n",
       "       [5.7, 2.9, 4.2, 1.3, nan],\n",
       "       [6.2, 2.9, 4.3, 1.3, nan],\n",
       "       [5.1, 2.5, 3. , 1.1, nan],\n",
       "       [5.7, 2.8, 4.1, 1.3, nan],\n",
       "       [6.3, 3.3, 6. , 2.5, nan],\n",
       "       [5.8, 2.7, 5.1, 1.9, nan],\n",
       "       [7.1, 3. , 5.9, 2.1, nan],\n",
       "       [6.3, 2.9, 5.6, 1.8, nan],\n",
       "       [6.5, 3. , 5.8, 2.2, nan],\n",
       "       [7.6, 3. , 6.6, 2.1, nan],\n",
       "       [4.9, 2.5, 4.5, 1.7, nan],\n",
       "       [7.3, 2.9, 6.3, 1.8, nan],\n",
       "       [6.7, 2.5, 5.8, 1.8, nan],\n",
       "       [7.2, 3.6, 6.1, 2.5, nan],\n",
       "       [6.5, 3.2, 5.1, 2. , nan],\n",
       "       [6.4, 2.7, 5.3, 1.9, nan],\n",
       "       [6.8, 3. , 5.5, 2.1, nan],\n",
       "       [5.7, 2.5, 5. , 2. , nan],\n",
       "       [5.8, 2.8, 5.1, 2.4, nan],\n",
       "       [6.4, 3.2, 5.3, 2.3, nan],\n",
       "       [6.5, 3. , 5.5, 1.8, nan],\n",
       "       [7.7, 3.8, 6.7, 2.2, nan],\n",
       "       [7.7, 2.6, 6.9, 2.3, nan],\n",
       "       [6. , 2.2, 5. , 1.5, nan],\n",
       "       [6.9, 3.2, 5.7, 2.3, nan],\n",
       "       [5.6, 2.8, 4.9, 2. , nan],\n",
       "       [7.7, 2.8, 6.7, 2. , nan],\n",
       "       [6.3, 2.7, 4.9, 1.8, nan],\n",
       "       [6.7, 3.3, 5.7, 2.1, nan],\n",
       "       [7.2, 3.2, 6. , 1.8, nan],\n",
       "       [6.2, 2.8, 4.8, 1.8, nan],\n",
       "       [6.1, 3. , 4.9, 1.8, nan],\n",
       "       [6.4, 2.8, 5.6, 2.1, nan],\n",
       "       [7.2, 3. , 5.8, 1.6, nan],\n",
       "       [7.4, 2.8, 6.1, 1.9, nan],\n",
       "       [7.9, 3.8, 6.4, 2. , nan],\n",
       "       [6.4, 2.8, 5.6, 2.2, nan],\n",
       "       [6.3, 2.8, 5.1, 1.5, nan],\n",
       "       [6.1, 2.6, 5.6, 1.4, nan],\n",
       "       [7.7, 3. , 6.1, 2.3, nan],\n",
       "       [6.3, 3.4, 5.6, 2.4, nan],\n",
       "       [6.4, 3.1, 5.5, 1.8, nan],\n",
       "       [6. , 3. , 4.8, 1.8, nan],\n",
       "       [6.9, 3.1, 5.4, 2.1, nan],\n",
       "       [6.7, 3.1, 5.6, 2.4, nan],\n",
       "       [6.9, 3.1, 5.1, 2.3, nan],\n",
       "       [5.8, 2.7, 5.1, 1.9, nan],\n",
       "       [6.8, 3.2, 5.9, 2.3, nan],\n",
       "       [6.7, 3.3, 5.7, 2.5, nan],\n",
       "       [6.7, 3. , 5.2, 2.3, nan],\n",
       "       [6.3, 2.5, 5. , 1.9, nan],\n",
       "       [6.5, 3. , 5.2, 2. , nan],\n",
       "       [6.2, 3.4, 5.4, 2.3, nan],\n",
       "       [5.9, 3. , 5.1, 1.8, nan]])"
      ]
     },
     "execution_count": 27,
     "metadata": {},
     "output_type": "execute_result"
    }
   ],
   "source": [
    "url = 'https://archive.ics.uci.edu/ml/machine-learning-databases/iris/iris.data'\n",
    "\n",
    "data = np.genfromtxt(url,delimiter=',', dtype='float')\n",
    "data"
   ]
  },
  {
   "cell_type": "code",
   "execution_count": 28,
   "metadata": {},
   "outputs": [
    {
     "name": "stdout",
     "output_type": "stream",
     "text": [
      "[ 6 15 24]\n"
     ]
    }
   ],
   "source": [
    "arr = np.array([[1, 2, 3],\n",
    "                [4, 5, 6],\n",
    "                [7, 8, 9]])\n",
    "\n",
    "# Appliquer la fonction sum sur chaque ligne (axe=1)\n",
    "result = np.apply_along_axis(np.sum, axis=1, arr=arr)\n",
    "\n",
    "print(result)"
   ]
  },
  {
   "cell_type": "markdown",
   "metadata": {},
   "source": [
    "## Use Cases\n",
    "\n",
    "- DataFrame:\n",
    "\n",
    "Ideal for handling tabular data, such as data from CSV files, SQL databases, or Excel spreadsheets. Commonly used in data analysis tasks.\n",
    "\n",
    "- NumPy Array:\n",
    "\n",
    "Best suited for numerical computations, mathematical modeling, image processing, and scientific computing."
   ]
  }
 ],
 "metadata": {
  "kernelspec": {
   "display_name": "Python 3",
   "language": "python",
   "name": "python3"
  },
  "language_info": {
   "codemirror_mode": {
    "name": "ipython",
    "version": 3
   },
   "file_extension": ".py",
   "mimetype": "text/x-python",
   "name": "python",
   "nbconvert_exporter": "python",
   "pygments_lexer": "ipython3",
   "version": "3.13.0"
  }
 },
 "nbformat": 4,
 "nbformat_minor": 2
}
